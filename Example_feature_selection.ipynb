{
 "cells": [
  {
   "cell_type": "code",
   "execution_count": 1,
   "metadata": {},
   "outputs": [],
   "source": [
    "import itertools\n",
    "from copy import copy, deepcopy"
   ]
  },
  {
   "cell_type": "code",
   "execution_count": 2,
   "metadata": {},
   "outputs": [],
   "source": [
    "class ConbinatoricFeatureGenerator:\n",
    "    def __init__(\n",
    "        self,\n",
    "        selected_cols: list,\n",
    "        required_cols: list = None,\n",
    "    ):\n",
    "        self._selected_cols = selected_cols\n",
    "        if required_cols is not None:\n",
    "            self._required_cols = self.melt_list_of_list(required_cols)\n",
    "        else:\n",
    "            self._required_cols = list()\n",
    "        self._selected_cols_loc_rep = range(len(self._selected_cols))\n",
    "\n",
    "    @staticmethod\n",
    "    def melt_list_of_list(list_of_list: list):\n",
    "        result_list = list()\n",
    "        for member in list_of_list:\n",
    "            if isinstance(member, list):\n",
    "                result_list += ConbinatoricFeatureGenerator.melt_list_of_list(member)\n",
    "            else:\n",
    "                result_list.append(member)\n",
    "        return result_list\n",
    "\n",
    "    def _lookup_combination(self, loc_combination):\n",
    "        combination = list()\n",
    "        for member in loc_combination:\n",
    "            combination.append(deepcopy(self._selected_cols[member]))\n",
    "        return combination\n",
    "\n",
    "    def create_combinations(self, r):\n",
    "        loc_combinations = itertools.combinations(\n",
    "            iterable=self._selected_cols_loc_rep,\n",
    "            r=r\n",
    "        )\n",
    "\n",
    "        for loc_combination in loc_combinations:\n",
    "            print(self._lookup_combination(loc_combination))\n"
   ]
  },
  {
   "cell_type": "code",
   "execution_count": 3,
   "metadata": {},
   "outputs": [
    {
     "name": "stdout",
     "output_type": "stream",
     "text": [
      "['e_1']\n",
      "['e_2']\n"
     ]
    }
   ],
   "source": [
    "required_cols = ['r_1', 'r_2', ['r_3', 'r_4']]\n",
    "selected_cols = ['e_1', 'e_2']\n",
    "\n",
    "\n",
    "cfg = ConbinatoricFeatureGenerator(\n",
    "    selected_cols=selected_cols,\n",
    "    required_cols=required_cols,\n",
    ")\n",
    "cfg.create_combinations(1)"
   ]
  },
  {
   "cell_type": "code",
   "execution_count": 4,
   "metadata": {},
   "outputs": [
    {
     "name": "stdout",
     "output_type": "stream",
     "text": [
      "(0,)\n",
      "(1,)\n"
     ]
    }
   ],
   "source": [
    "selected_cols_loc_rep = range(len(selected_cols))\n",
    "combinations = itertools.combinations(\n",
    "    iterable=selected_cols_loc_rep,\n",
    "    r=1\n",
    ")\n",
    "for combination in combinations:\n",
    "    print(combination)"
   ]
  },
  {
   "cell_type": "code",
   "execution_count": 6,
   "metadata": {},
   "outputs": [],
   "source": [
    "# r_start = 1\n",
    "# r_end = 2\n",
    "\n",
    "\n",
    "\n",
    "# processed_combinations = list()\n",
    "# for r in range(r_start, r_end + 1):\n",
    "#     combinations = list(itertools.combinations(selected_groups_and_cols, r))\n",
    "#     processed_combination = list()\n",
    "#     for combination in combinations:\n",
    "#         combination = melt_list_of_list(required_groups_and_cols + list(combination))\n",
    "#         processed_combination.append(combination)\n",
    "#     processed_combinations += processed_combination\n",
    "\n",
    "# processed_combinations\n"
   ]
  },
  {
   "cell_type": "code",
   "execution_count": null,
   "metadata": {},
   "outputs": [
    {
     "data": {
      "text/plain": [
       "[('e_1',), ('e_2',)]"
      ]
     },
     "execution_count": 29,
     "metadata": {},
     "output_type": "execute_result"
    }
   ],
   "source": [
    "list(itertools.combinations(selected_groups_and_cols, 1))"
   ]
  }
 ],
 "metadata": {
  "kernelspec": {
   "display_name": "ml-toolkit",
   "language": "python",
   "name": "python3"
  },
  "language_info": {
   "codemirror_mode": {
    "name": "ipython",
    "version": 3
   },
   "file_extension": ".py",
   "mimetype": "text/x-python",
   "name": "python",
   "nbconvert_exporter": "python",
   "pygments_lexer": "ipython3",
   "version": "3.12.2"
  }
 },
 "nbformat": 4,
 "nbformat_minor": 2
}
