{
 "cells": [
  {
   "cell_type": "code",
   "execution_count": 1,
   "metadata": {},
   "outputs": [],
   "source": [
    "from tqdm import tqdm\n",
    "from custom_ml_toolkit.feature_selector.combination import CombinatoricFeatureGenerator"
   ]
  },
  {
   "cell_type": "code",
   "execution_count": 2,
   "metadata": {},
   "outputs": [
    {
     "name": "stdout",
     "output_type": "stream",
     "text": [
      "---------------------------------------------------------------\n",
      "n: 3\n",
      "r = 1: 3 combinations\n",
      "r = 2: 3 combinations\n",
      "r = 3: 1 combinations\n",
      "Remaining 7/7\n",
      "---------------------------------------------------------------\n"
     ]
    }
   ],
   "source": [
    "r_start = 1\n",
    "r_end = 3\n",
    "required_cols = ['r_1', 'r_2', ['r_3', 'r_4']]\n",
    "selected_cols = ['e_1', 'e_2', ['e_3_1', 'e_3_2']]\n",
    "budget = 1\n",
    "\n",
    "cfg = CombinatoricFeatureGenerator(\n",
    "    r_start=r_start,\n",
    "    r_end=r_end,\n",
    "    selected_cols=selected_cols,\n",
    "    required_cols=required_cols,\n",
    "    budget=budget,\n",
    "    verbose=True\n",
    ")\n",
    "\n",
    "cfg.info()"
   ]
  },
  {
   "cell_type": "code",
   "execution_count": 3,
   "metadata": {},
   "outputs": [
    {
     "name": "stdout",
     "output_type": "stream",
     "text": [
      "6 ['e_2', ['e_3_1', 'e_3_2']] ['r_1', 'r_2', 'r_3', 'r_4', 'e_1']\n",
      "Run out of budget, but there is/are still 6 combination(s) left.\n"
     ]
    }
   ],
   "source": [
    "for removed_members, combination in cfg:\n",
    "    print(cfg.remaining, removed_members, combination)\n",
    "cfg.budget = 2"
   ]
  },
  {
   "cell_type": "code",
   "execution_count": 4,
   "metadata": {},
   "outputs": [
    {
     "name": "stdout",
     "output_type": "stream",
     "text": [
      "5 ['e_1', ['e_3_1', 'e_3_2']] ['r_1', 'r_2', 'r_3', 'r_4', 'e_2']\n",
      "4 ['e_1', 'e_2'] ['r_1', 'r_2', 'r_3', 'r_4', 'e_3_1', 'e_3_2']\n",
      "Run out of budget, but there is/are still 4 combination(s) left.\n"
     ]
    }
   ],
   "source": [
    "for removed_members, combination in cfg:\n",
    "    print(cfg.remaining, removed_members, combination)\n",
    "cfg.budget = -1"
   ]
  },
  {
   "cell_type": "code",
   "execution_count": 5,
   "metadata": {},
   "outputs": [
    {
     "name": "stderr",
     "output_type": "stream",
     "text": [
      "100%|██████████| 4/4 [00:00<?, ?it/s]"
     ]
    },
    {
     "name": "stdout",
     "output_type": "stream",
     "text": [
      "3 [['e_3_1', 'e_3_2']] ['r_1', 'r_2', 'r_3', 'r_4', 'e_1', 'e_2']\n",
      "2 ['e_2'] ['r_1', 'r_2', 'r_3', 'r_4', 'e_1', 'e_3_1', 'e_3_2']\n",
      "1 ['e_1'] ['r_1', 'r_2', 'r_3', 'r_4', 'e_2', 'e_3_1', 'e_3_2']\n",
      "0 [] ['r_1', 'r_2', 'r_3', 'r_4', 'e_1', 'e_2', 'e_3_1', 'e_3_2']\n",
      "Run out of combination\n",
      "---------------------------------------------------------------\n",
      "n: 3\n",
      "r = 1: 3 combinations\n",
      "r = 2: 3 combinations\n",
      "r = 3: 1 combinations\n",
      "Remaining 0/7\n",
      "---------------------------------------------------------------\n"
     ]
    },
    {
     "name": "stderr",
     "output_type": "stream",
     "text": [
      "\n"
     ]
    }
   ],
   "source": [
    "for removed_members, combination in tqdm(cfg):\n",
    "    print(cfg.remaining, removed_members, combination)\n",
    "\n",
    "cfg.info()"
   ]
  }
 ],
 "metadata": {
  "kernelspec": {
   "display_name": "ml-toolkit",
   "language": "python",
   "name": "python3"
  },
  "language_info": {
   "codemirror_mode": {
    "name": "ipython",
    "version": 3
   },
   "file_extension": ".py",
   "mimetype": "text/x-python",
   "name": "python",
   "nbconvert_exporter": "python",
   "pygments_lexer": "ipython3",
   "version": "3.12.2"
  }
 },
 "nbformat": 4,
 "nbformat_minor": 2
}
