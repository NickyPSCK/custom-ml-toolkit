{
 "cells": [
  {
   "cell_type": "code",
   "execution_count": 1,
   "metadata": {},
   "outputs": [],
   "source": [
    "import warnings\n",
    "warnings.filterwarnings('ignore')\n",
    "from typing import Literal\n",
    "\n",
    "import pandas as pd\n",
    "import numpy as np\n",
    "from custom_ml_toolkit.preprocessor.encoder import SupportMissingDatasetEncoder\n",
    "from sklearn.model_selection import train_test_split, KFold\n",
    "from sklearn.metrics import classification_report\n",
    "from xgboost import XGBClassifier\n",
    "from lightgbm import LGBMClassifier\n",
    "\n",
    "import optuna\n",
    "from functools import partial"
   ]
  },
  {
   "cell_type": "markdown",
   "metadata": {},
   "source": [
    "## Data Preparation"
   ]
  },
  {
   "cell_type": "code",
   "execution_count": 2,
   "metadata": {},
   "outputs": [],
   "source": [
    "random_state = 77\n",
    "data_df = pd.read_csv('example_data/titanic.csv')\n",
    "data_df['Deck'] = data_df['Cabin'].str[0]\n",
    "\n",
    "numerical_cols = ['Age', 'SibSp', 'Parch', 'Fare']\n",
    "norminal_cols = ['Sex', 'Embarked']\n",
    "ordinal_cols = ['Pclass', 'Deck']\n",
    "target_col = 'Survived'\n",
    "\n",
    "train_data_df, test_data_df = train_test_split(\n",
    "    data_df,\n",
    "    test_size=0.8,\n",
    "    random_state=random_state,\n",
    "    stratify=data_df['Survived']\n",
    ")\n",
    "\n",
    "de = SupportMissingDatasetEncoder(\n",
    "    numerical_cols=numerical_cols,\n",
    "    norminal_cols=norminal_cols,\n",
    "    ordinal_cols=ordinal_cols,\n",
    "    target_col=target_col,\n",
    "    drop_binary=True,\n",
    "    oe_unknown_value=np.nan,\n",
    "    oe_missing_value=np.nan,\n",
    "    encode_target=True\n",
    ")\n",
    "\n",
    "de.fit(train_data_df)\n",
    "encoded_train_data_df = de.transform(train_data_df)\n",
    "encoded_test_data_df = de.transform(test_data_df)\n",
    "\n",
    "X_train = encoded_train_data_df.drop(columns=['Survived'])\n",
    "y_train = encoded_train_data_df['Survived']\n",
    "\n",
    "X_test = encoded_test_data_df.drop(columns=['Survived'])\n",
    "y_test = encoded_test_data_df['Survived']"
   ]
  },
  {
   "cell_type": "code",
   "execution_count": 3,
   "metadata": {},
   "outputs": [],
   "source": [
    "def generate_class_weight(\n",
    "        trial,\n",
    "        class_names: list\n",
    "    ):\n",
    "    class_names = sorted(class_names)\n",
    "    class_weights_dict = dict()\n",
    "\n",
    "    if len(class_names) > 2:\n",
    "        for class_name in class_names:\n",
    "            class_weights_dict[class_name] = trial.suggest_float(class_name, 0.01, 1)\n",
    "    else:\n",
    "        first_class_weight = trial.suggest_float(class_names[0], 0.01, 1)\n",
    "        second_calss_weight = 1 - first_class_weight\n",
    "        class_weights_dict[class_names[0]] = first_class_weight\n",
    "        class_weights_dict[class_names[1]] = second_calss_weight\n",
    "\n",
    "    return class_weights_dict\n",
    "\n",
    "def generate_hyper_params(\n",
    "        trial,\n",
    "        model: Literal['xgb', 'lgbm'] = 'xgb'\n",
    "    ):\n",
    "    if model == 'xgb':\n",
    "        params = {\n",
    "            'n_estimators': trial.suggest_int('n_estimators', 50, 900),\n",
    "            'learning_rate': trial.suggest_float('learning_rate', 0.01, 1, log=True), # or eta def=0.3 [0,1]\n",
    "            'min_split_loss': trial.suggest_float('min_split_loss', 0, 10), # or gamma def=0 [0, inf]\n",
    "            'max_depth': trial.suggest_int('max_depth', 1, 10), # def=6 [0, inf]\n",
    "            'max_leaves': trial.suggest_int('max_leaves', 0, 10), # def=0\n",
    "            'max_bin': trial.suggest_int('max_bin', 128, 256), # def=256\n",
    "            'min_child_weight': trial.suggest_int('min_child_weight', 1, 10), # def=1 [0, inf]\n",
    "            'max_delta_step': trial.suggest_int('max_delta_step', 1, 10), # def=1 [0, inf]\n",
    "            'subsample': trial.suggest_float('subsample', 0.01, 1.0, log=True), # def=1 (0, inf]\n",
    "            'colsample_bytree': trial.suggest_float('colsample_bytree', 0.01, 1, log=True), # def=1 (0, 1]\n",
    "            'reg_lambda': trial.suggest_float('reg_lambda', 1e-8, 2.0, log=True), # or lambda def=1\n",
    "            'reg_alpha': trial.suggest_float('reg_alpha', 1e-8, 2.0, log=True), # or alpha def=0\n",
    "            ## 'grow_policy': trial.suggest_categorical('grow_policy', ['depthwise', 'lossguide']),\n",
    "            ## 'booster': trial.suggest_categorical('booster', ['gbtree', 'gblinear']), # def=gbtree\n",
    "            ## 'sampling_method' trial.suggest_categorical('sampling_method', ['uniform', 'gradient_based'] ) # def=uniform only supported when tree_method is set to gpu_hist\n",
    "            ##'tree_method': trial.suggest_categorical('tree_method', ['exact', 'approx', 'hist']), # def=auto\n",
    "        }\n",
    "    elif model == 'lgbm':\n",
    "        params = {\n",
    "        }\n",
    "    return params\n",
    "\n",
    "def train_model(\n",
    "        X_train,\n",
    "        y_train,\n",
    "        params: dict = None,\n",
    "        class_weights: dict = None,\n",
    "        model: Literal['xgb', 'lgbm'] = 'xgb'\n",
    "    ):\n",
    "\n",
    "    if params is None:\n",
    "        params = dict()\n",
    "\n",
    "    if class_weights is None:\n",
    "        sample_weight = None\n",
    "    else:\n",
    "        sample_weight = y_train\\\n",
    "            .map(class_weights)\\\n",
    "            .to_numpy()\n",
    "\n",
    "    if model == 'xgb':\n",
    "        clf = XGBClassifier(\n",
    "            **params,\n",
    "            random_state=random_state,\n",
    "            n_jobs=-1,\n",
    "            missing=np.nan\n",
    "        )\n",
    "    elif model == 'lgbm':\n",
    "        clf = LGBMClassifier(\n",
    "            **params,\n",
    "            random_state=random_state,\n",
    "            n_jobs=-1,\n",
    "            verbose=-1\n",
    "        )\n",
    "\n",
    "    clf.fit(\n",
    "        X_train,\n",
    "        y_train,\n",
    "        sample_weight=sample_weight\n",
    "    )\n",
    "\n",
    "    return clf\n",
    "\n",
    "def eval_model(clf, X_test, y_test):\n",
    "    y_test_pred = clf.predict(X_test)\n",
    "\n",
    "    eval_dict = classification_report(\n",
    "        y_true=y_test,\n",
    "        y_pred=y_test_pred,\n",
    "        output_dict=True\n",
    "    )\n",
    "    score = eval_dict['macro avg']['f1-score']\n",
    "    return score\n",
    "\n",
    "def objective(\n",
    "        trial,\n",
    "        X_train,\n",
    "        y_train,\n",
    "        X_test=None,\n",
    "        y_test=None,\n",
    "        k=3,\n",
    "        model: Literal['xgb', 'lgbm'] = 'xgb',\n",
    "        mode: Literal['class_weight', 'params'] = 'params',\n",
    "        class_weights:dict = None\n",
    "    ):\n",
    "\n",
    "    if mode == 'class_weight':\n",
    "        class_weights = generate_class_weight(trial, class_names=list(y_train.unique()))\n",
    "        params = None\n",
    "    elif mode == 'params':\n",
    "        params = generate_hyper_params(trial, model=model)\n",
    "\n",
    "    if (X_test is None) or (y_test is None):\n",
    "        kf = KFold(n_splits=k, shuffle=False)\n",
    "        cv_score_list = list()\n",
    "        for train_index, test_index in kf.split(X=X_train, y=y_train):\n",
    "            X_train_cv = X_train.iloc[train_index].copy()\n",
    "            y_train_cv =  y_train.iloc[train_index].copy()\n",
    "            X_test_cv = X_train.iloc[test_index].copy()\n",
    "            y_test_cv = y_train.iloc[test_index].copy()\n",
    "\n",
    "            clf = train_model(\n",
    "                    X_train_cv,\n",
    "                    y_train_cv,\n",
    "                    params=params,\n",
    "                    class_weights=class_weights,\n",
    "                    model=model\n",
    "            )\n",
    "            cv_score = eval_model(clf, X_test_cv, y_test_cv)\n",
    "\n",
    "            cv_score_list.append(cv_score)\n",
    "        score = sum(cv_score_list)/len(cv_score_list)\n",
    "    else:\n",
    "        clf = train_model(\n",
    "                X_train,\n",
    "                y_train,\n",
    "                params=params,\n",
    "                class_weights=class_weights,\n",
    "                model=model\n",
    "        )\n",
    "        score = eval_model(clf, X_test, y_test)\n",
    "    return score\n"
   ]
  },
  {
   "cell_type": "markdown",
   "metadata": {},
   "source": [
    "## Tune Class Weight"
   ]
  },
  {
   "cell_type": "code",
   "execution_count": 4,
   "metadata": {},
   "outputs": [
    {
     "name": "stderr",
     "output_type": "stream",
     "text": [
      "[I 2024-09-17 18:45:27,015] A new study created in memory with name: no-name-ff5db418-aaa5-46bd-a9e2-ec3535af7e99\n",
      "[I 2024-09-17 18:45:27,221] Trial 0 finished with value: 0.69223788765024 and parameters: {0: 0.7169069231694983}. Best is trial 0 with value: 0.69223788765024.\n",
      "[I 2024-09-17 18:45:27,395] Trial 1 finished with value: 0.5995265497503349 and parameters: {0: 0.28772406957720625}. Best is trial 0 with value: 0.69223788765024.\n",
      "[I 2024-09-17 18:45:27,562] Trial 2 finished with value: 0.6689543195753798 and parameters: {0: 0.6829458607525221}. Best is trial 0 with value: 0.69223788765024.\n",
      "[I 2024-09-17 18:45:27,729] Trial 3 finished with value: 0.6453801288448789 and parameters: {0: 0.5421046644088138}. Best is trial 0 with value: 0.69223788765024.\n",
      "[I 2024-09-17 18:45:27,886] Trial 4 finished with value: 0.5869936326477152 and parameters: {0: 0.17516539801811765}. Best is trial 0 with value: 0.69223788765024.\n",
      "[I 2024-09-17 18:45:28,023] Trial 5 finished with value: 0.4692091799508679 and parameters: {0: 0.06621983926020156}. Best is trial 0 with value: 0.69223788765024.\n",
      "[I 2024-09-17 18:45:28,137] Trial 6 finished with value: 0.38146997929606624 and parameters: {0: 0.9567940398342606}. Best is trial 0 with value: 0.69223788765024.\n",
      "[I 2024-09-17 18:45:28,300] Trial 7 finished with value: 0.6438330608342849 and parameters: {0: 0.5048790724269697}. Best is trial 0 with value: 0.69223788765024.\n",
      "[I 2024-09-17 18:45:28,466] Trial 8 finished with value: 0.5911455651284082 and parameters: {0: 0.20172298407320835}. Best is trial 0 with value: 0.69223788765024.\n",
      "[I 2024-09-17 18:45:28,627] Trial 9 finished with value: 0.6146446362278616 and parameters: {0: 0.3280790972543657}. Best is trial 0 with value: 0.69223788765024.\n"
     ]
    },
    {
     "name": "stdout",
     "output_type": "stream",
     "text": [
      "Best Score:  0.69223788765024\n",
      "Best Params: \n",
      "{0: 0.7169069231694983}\n"
     ]
    },
    {
     "data": {
      "application/vnd.plotly.v1+json": {
       "config": {
        "plotlyServerURL": "https://plot.ly"
       },
       "data": [
        {
         "cliponaxis": false,
         "hovertemplate": [
          "0 (FloatDistribution): 1.0<extra></extra>"
         ],
         "name": "Objective Value",
         "orientation": "h",
         "text": [
          "1.00"
         ],
         "textposition": "outside",
         "type": "bar",
         "x": [
          1
         ],
         "y": [
          0
         ]
        }
       ],
       "layout": {
        "template": {
         "data": {
          "bar": [
           {
            "error_x": {
             "color": "#2a3f5f"
            },
            "error_y": {
             "color": "#2a3f5f"
            },
            "marker": {
             "line": {
              "color": "#E5ECF6",
              "width": 0.5
             },
             "pattern": {
              "fillmode": "overlay",
              "size": 10,
              "solidity": 0.2
             }
            },
            "type": "bar"
           }
          ],
          "barpolar": [
           {
            "marker": {
             "line": {
              "color": "#E5ECF6",
              "width": 0.5
             },
             "pattern": {
              "fillmode": "overlay",
              "size": 10,
              "solidity": 0.2
             }
            },
            "type": "barpolar"
           }
          ],
          "carpet": [
           {
            "aaxis": {
             "endlinecolor": "#2a3f5f",
             "gridcolor": "white",
             "linecolor": "white",
             "minorgridcolor": "white",
             "startlinecolor": "#2a3f5f"
            },
            "baxis": {
             "endlinecolor": "#2a3f5f",
             "gridcolor": "white",
             "linecolor": "white",
             "minorgridcolor": "white",
             "startlinecolor": "#2a3f5f"
            },
            "type": "carpet"
           }
          ],
          "choropleth": [
           {
            "colorbar": {
             "outlinewidth": 0,
             "ticks": ""
            },
            "type": "choropleth"
           }
          ],
          "contour": [
           {
            "colorbar": {
             "outlinewidth": 0,
             "ticks": ""
            },
            "colorscale": [
             [
              0,
              "#0d0887"
             ],
             [
              0.1111111111111111,
              "#46039f"
             ],
             [
              0.2222222222222222,
              "#7201a8"
             ],
             [
              0.3333333333333333,
              "#9c179e"
             ],
             [
              0.4444444444444444,
              "#bd3786"
             ],
             [
              0.5555555555555556,
              "#d8576b"
             ],
             [
              0.6666666666666666,
              "#ed7953"
             ],
             [
              0.7777777777777778,
              "#fb9f3a"
             ],
             [
              0.8888888888888888,
              "#fdca26"
             ],
             [
              1,
              "#f0f921"
             ]
            ],
            "type": "contour"
           }
          ],
          "contourcarpet": [
           {
            "colorbar": {
             "outlinewidth": 0,
             "ticks": ""
            },
            "type": "contourcarpet"
           }
          ],
          "heatmap": [
           {
            "colorbar": {
             "outlinewidth": 0,
             "ticks": ""
            },
            "colorscale": [
             [
              0,
              "#0d0887"
             ],
             [
              0.1111111111111111,
              "#46039f"
             ],
             [
              0.2222222222222222,
              "#7201a8"
             ],
             [
              0.3333333333333333,
              "#9c179e"
             ],
             [
              0.4444444444444444,
              "#bd3786"
             ],
             [
              0.5555555555555556,
              "#d8576b"
             ],
             [
              0.6666666666666666,
              "#ed7953"
             ],
             [
              0.7777777777777778,
              "#fb9f3a"
             ],
             [
              0.8888888888888888,
              "#fdca26"
             ],
             [
              1,
              "#f0f921"
             ]
            ],
            "type": "heatmap"
           }
          ],
          "heatmapgl": [
           {
            "colorbar": {
             "outlinewidth": 0,
             "ticks": ""
            },
            "colorscale": [
             [
              0,
              "#0d0887"
             ],
             [
              0.1111111111111111,
              "#46039f"
             ],
             [
              0.2222222222222222,
              "#7201a8"
             ],
             [
              0.3333333333333333,
              "#9c179e"
             ],
             [
              0.4444444444444444,
              "#bd3786"
             ],
             [
              0.5555555555555556,
              "#d8576b"
             ],
             [
              0.6666666666666666,
              "#ed7953"
             ],
             [
              0.7777777777777778,
              "#fb9f3a"
             ],
             [
              0.8888888888888888,
              "#fdca26"
             ],
             [
              1,
              "#f0f921"
             ]
            ],
            "type": "heatmapgl"
           }
          ],
          "histogram": [
           {
            "marker": {
             "pattern": {
              "fillmode": "overlay",
              "size": 10,
              "solidity": 0.2
             }
            },
            "type": "histogram"
           }
          ],
          "histogram2d": [
           {
            "colorbar": {
             "outlinewidth": 0,
             "ticks": ""
            },
            "colorscale": [
             [
              0,
              "#0d0887"
             ],
             [
              0.1111111111111111,
              "#46039f"
             ],
             [
              0.2222222222222222,
              "#7201a8"
             ],
             [
              0.3333333333333333,
              "#9c179e"
             ],
             [
              0.4444444444444444,
              "#bd3786"
             ],
             [
              0.5555555555555556,
              "#d8576b"
             ],
             [
              0.6666666666666666,
              "#ed7953"
             ],
             [
              0.7777777777777778,
              "#fb9f3a"
             ],
             [
              0.8888888888888888,
              "#fdca26"
             ],
             [
              1,
              "#f0f921"
             ]
            ],
            "type": "histogram2d"
           }
          ],
          "histogram2dcontour": [
           {
            "colorbar": {
             "outlinewidth": 0,
             "ticks": ""
            },
            "colorscale": [
             [
              0,
              "#0d0887"
             ],
             [
              0.1111111111111111,
              "#46039f"
             ],
             [
              0.2222222222222222,
              "#7201a8"
             ],
             [
              0.3333333333333333,
              "#9c179e"
             ],
             [
              0.4444444444444444,
              "#bd3786"
             ],
             [
              0.5555555555555556,
              "#d8576b"
             ],
             [
              0.6666666666666666,
              "#ed7953"
             ],
             [
              0.7777777777777778,
              "#fb9f3a"
             ],
             [
              0.8888888888888888,
              "#fdca26"
             ],
             [
              1,
              "#f0f921"
             ]
            ],
            "type": "histogram2dcontour"
           }
          ],
          "mesh3d": [
           {
            "colorbar": {
             "outlinewidth": 0,
             "ticks": ""
            },
            "type": "mesh3d"
           }
          ],
          "parcoords": [
           {
            "line": {
             "colorbar": {
              "outlinewidth": 0,
              "ticks": ""
             }
            },
            "type": "parcoords"
           }
          ],
          "pie": [
           {
            "automargin": true,
            "type": "pie"
           }
          ],
          "scatter": [
           {
            "fillpattern": {
             "fillmode": "overlay",
             "size": 10,
             "solidity": 0.2
            },
            "type": "scatter"
           }
          ],
          "scatter3d": [
           {
            "line": {
             "colorbar": {
              "outlinewidth": 0,
              "ticks": ""
             }
            },
            "marker": {
             "colorbar": {
              "outlinewidth": 0,
              "ticks": ""
             }
            },
            "type": "scatter3d"
           }
          ],
          "scattercarpet": [
           {
            "marker": {
             "colorbar": {
              "outlinewidth": 0,
              "ticks": ""
             }
            },
            "type": "scattercarpet"
           }
          ],
          "scattergeo": [
           {
            "marker": {
             "colorbar": {
              "outlinewidth": 0,
              "ticks": ""
             }
            },
            "type": "scattergeo"
           }
          ],
          "scattergl": [
           {
            "marker": {
             "colorbar": {
              "outlinewidth": 0,
              "ticks": ""
             }
            },
            "type": "scattergl"
           }
          ],
          "scattermapbox": [
           {
            "marker": {
             "colorbar": {
              "outlinewidth": 0,
              "ticks": ""
             }
            },
            "type": "scattermapbox"
           }
          ],
          "scatterpolar": [
           {
            "marker": {
             "colorbar": {
              "outlinewidth": 0,
              "ticks": ""
             }
            },
            "type": "scatterpolar"
           }
          ],
          "scatterpolargl": [
           {
            "marker": {
             "colorbar": {
              "outlinewidth": 0,
              "ticks": ""
             }
            },
            "type": "scatterpolargl"
           }
          ],
          "scatterternary": [
           {
            "marker": {
             "colorbar": {
              "outlinewidth": 0,
              "ticks": ""
             }
            },
            "type": "scatterternary"
           }
          ],
          "surface": [
           {
            "colorbar": {
             "outlinewidth": 0,
             "ticks": ""
            },
            "colorscale": [
             [
              0,
              "#0d0887"
             ],
             [
              0.1111111111111111,
              "#46039f"
             ],
             [
              0.2222222222222222,
              "#7201a8"
             ],
             [
              0.3333333333333333,
              "#9c179e"
             ],
             [
              0.4444444444444444,
              "#bd3786"
             ],
             [
              0.5555555555555556,
              "#d8576b"
             ],
             [
              0.6666666666666666,
              "#ed7953"
             ],
             [
              0.7777777777777778,
              "#fb9f3a"
             ],
             [
              0.8888888888888888,
              "#fdca26"
             ],
             [
              1,
              "#f0f921"
             ]
            ],
            "type": "surface"
           }
          ],
          "table": [
           {
            "cells": {
             "fill": {
              "color": "#EBF0F8"
             },
             "line": {
              "color": "white"
             }
            },
            "header": {
             "fill": {
              "color": "#C8D4E3"
             },
             "line": {
              "color": "white"
             }
            },
            "type": "table"
           }
          ]
         },
         "layout": {
          "annotationdefaults": {
           "arrowcolor": "#2a3f5f",
           "arrowhead": 0,
           "arrowwidth": 1
          },
          "autotypenumbers": "strict",
          "coloraxis": {
           "colorbar": {
            "outlinewidth": 0,
            "ticks": ""
           }
          },
          "colorscale": {
           "diverging": [
            [
             0,
             "#8e0152"
            ],
            [
             0.1,
             "#c51b7d"
            ],
            [
             0.2,
             "#de77ae"
            ],
            [
             0.3,
             "#f1b6da"
            ],
            [
             0.4,
             "#fde0ef"
            ],
            [
             0.5,
             "#f7f7f7"
            ],
            [
             0.6,
             "#e6f5d0"
            ],
            [
             0.7,
             "#b8e186"
            ],
            [
             0.8,
             "#7fbc41"
            ],
            [
             0.9,
             "#4d9221"
            ],
            [
             1,
             "#276419"
            ]
           ],
           "sequential": [
            [
             0,
             "#0d0887"
            ],
            [
             0.1111111111111111,
             "#46039f"
            ],
            [
             0.2222222222222222,
             "#7201a8"
            ],
            [
             0.3333333333333333,
             "#9c179e"
            ],
            [
             0.4444444444444444,
             "#bd3786"
            ],
            [
             0.5555555555555556,
             "#d8576b"
            ],
            [
             0.6666666666666666,
             "#ed7953"
            ],
            [
             0.7777777777777778,
             "#fb9f3a"
            ],
            [
             0.8888888888888888,
             "#fdca26"
            ],
            [
             1,
             "#f0f921"
            ]
           ],
           "sequentialminus": [
            [
             0,
             "#0d0887"
            ],
            [
             0.1111111111111111,
             "#46039f"
            ],
            [
             0.2222222222222222,
             "#7201a8"
            ],
            [
             0.3333333333333333,
             "#9c179e"
            ],
            [
             0.4444444444444444,
             "#bd3786"
            ],
            [
             0.5555555555555556,
             "#d8576b"
            ],
            [
             0.6666666666666666,
             "#ed7953"
            ],
            [
             0.7777777777777778,
             "#fb9f3a"
            ],
            [
             0.8888888888888888,
             "#fdca26"
            ],
            [
             1,
             "#f0f921"
            ]
           ]
          },
          "colorway": [
           "#636efa",
           "#EF553B",
           "#00cc96",
           "#ab63fa",
           "#FFA15A",
           "#19d3f3",
           "#FF6692",
           "#B6E880",
           "#FF97FF",
           "#FECB52"
          ],
          "font": {
           "color": "#2a3f5f"
          },
          "geo": {
           "bgcolor": "white",
           "lakecolor": "white",
           "landcolor": "#E5ECF6",
           "showlakes": true,
           "showland": true,
           "subunitcolor": "white"
          },
          "hoverlabel": {
           "align": "left"
          },
          "hovermode": "closest",
          "mapbox": {
           "style": "light"
          },
          "paper_bgcolor": "white",
          "plot_bgcolor": "#E5ECF6",
          "polar": {
           "angularaxis": {
            "gridcolor": "white",
            "linecolor": "white",
            "ticks": ""
           },
           "bgcolor": "#E5ECF6",
           "radialaxis": {
            "gridcolor": "white",
            "linecolor": "white",
            "ticks": ""
           }
          },
          "scene": {
           "xaxis": {
            "backgroundcolor": "#E5ECF6",
            "gridcolor": "white",
            "gridwidth": 2,
            "linecolor": "white",
            "showbackground": true,
            "ticks": "",
            "zerolinecolor": "white"
           },
           "yaxis": {
            "backgroundcolor": "#E5ECF6",
            "gridcolor": "white",
            "gridwidth": 2,
            "linecolor": "white",
            "showbackground": true,
            "ticks": "",
            "zerolinecolor": "white"
           },
           "zaxis": {
            "backgroundcolor": "#E5ECF6",
            "gridcolor": "white",
            "gridwidth": 2,
            "linecolor": "white",
            "showbackground": true,
            "ticks": "",
            "zerolinecolor": "white"
           }
          },
          "shapedefaults": {
           "line": {
            "color": "#2a3f5f"
           }
          },
          "ternary": {
           "aaxis": {
            "gridcolor": "white",
            "linecolor": "white",
            "ticks": ""
           },
           "baxis": {
            "gridcolor": "white",
            "linecolor": "white",
            "ticks": ""
           },
           "bgcolor": "#E5ECF6",
           "caxis": {
            "gridcolor": "white",
            "linecolor": "white",
            "ticks": ""
           }
          },
          "title": {
           "x": 0.05
          },
          "xaxis": {
           "automargin": true,
           "gridcolor": "white",
           "linecolor": "white",
           "ticks": "",
           "title": {
            "standoff": 15
           },
           "zerolinecolor": "white",
           "zerolinewidth": 2
          },
          "yaxis": {
           "automargin": true,
           "gridcolor": "white",
           "linecolor": "white",
           "ticks": "",
           "title": {
            "standoff": 15
           },
           "zerolinecolor": "white",
           "zerolinewidth": 2
          }
         }
        },
        "title": {
         "text": "Hyperparameter Importances"
        },
        "xaxis": {
         "title": {
          "text": "Hyperparameter Importance"
         }
        },
        "yaxis": {
         "title": {
          "text": "Hyperparameter"
         }
        }
       }
      }
     },
     "metadata": {},
     "output_type": "display_data"
    }
   ],
   "source": [
    "objective_func = partial(\n",
    "    objective,\n",
    "    X_train=X_train,\n",
    "    y_train=y_train,\n",
    "    # X_test=X_test,\n",
    "    # y_test=y_test,\n",
    "    k=3,\n",
    "    model='xgb',\n",
    "    mode='class_weight'\n",
    ")\n",
    "\n",
    "study = optuna.create_study(direction = 'maximize')\n",
    "study.optimize(objective_func, n_trials = 10)\n",
    "trial = study.best_trial\n",
    "print('Best Score: ', trial.value)\n",
    "print('Best Params: ')\n",
    "print(trial.params)\n",
    "optuna.visualization.plot_contour(study)\n",
    "optuna.visualization.plot_param_importances(study)"
   ]
  },
  {
   "cell_type": "code",
   "execution_count": 5,
   "metadata": {},
   "outputs": [
    {
     "name": "stderr",
     "output_type": "stream",
     "text": [
      "[I 2024-09-17 18:45:29,771] A new study created in memory with name: no-name-9cfc89f1-7177-4b39-9be6-2f3e6680814b\n",
      "[I 2024-09-17 18:45:29,903] Trial 0 finished with value: 0.38146997929606624 and parameters: {'n_estimators': 71, 'learning_rate': 0.28842586843678486, 'min_split_loss': 8.984763037879581, 'max_depth': 8, 'max_leaves': 8, 'max_bin': 141, 'min_child_weight': 4, 'max_delta_step': 10, 'subsample': 0.6266441490966028, 'colsample_bytree': 0.024786313897839758, 'reg_lambda': 3.174353179534399e-08, 'reg_alpha': 0.009403822054904563}. Best is trial 0 with value: 0.38146997929606624.\n",
      "[I 2024-09-17 18:45:30,278] Trial 1 finished with value: 0.38146997929606624 and parameters: {'n_estimators': 604, 'learning_rate': 0.05735535115096553, 'min_split_loss': 2.220597561817087, 'max_depth': 6, 'max_leaves': 3, 'max_bin': 225, 'min_child_weight': 5, 'max_delta_step': 10, 'subsample': 0.01750841548515223, 'colsample_bytree': 0.07973545366620943, 'reg_lambda': 1.8119863495948314e-07, 'reg_alpha': 1.575891581679564e-05}. Best is trial 0 with value: 0.38146997929606624.\n",
      "[I 2024-09-17 18:45:30,498] Trial 2 finished with value: 0.38146997929606624 and parameters: {'n_estimators': 302, 'learning_rate': 0.35192115090230125, 'min_split_loss': 6.987281665465986, 'max_depth': 9, 'max_leaves': 4, 'max_bin': 224, 'min_child_weight': 3, 'max_delta_step': 6, 'subsample': 0.042848482809730463, 'colsample_bytree': 0.38085906475927794, 'reg_lambda': 0.0021344625093089624, 'reg_alpha': 0.13463388133303072}. Best is trial 0 with value: 0.38146997929606624.\n",
      "[I 2024-09-17 18:45:30,902] Trial 3 finished with value: 0.38146997929606624 and parameters: {'n_estimators': 673, 'learning_rate': 0.016489475385134626, 'min_split_loss': 5.386175290925404, 'max_depth': 1, 'max_leaves': 3, 'max_bin': 143, 'min_child_weight': 6, 'max_delta_step': 4, 'subsample': 0.01675558887262002, 'colsample_bytree': 0.31399226287269144, 'reg_lambda': 0.00018666406711063689, 'reg_alpha': 6.252142257356556e-08}. Best is trial 0 with value: 0.38146997929606624.\n",
      "[I 2024-09-17 18:45:31,285] Trial 4 finished with value: 0.38146997929606624 and parameters: {'n_estimators': 598, 'learning_rate': 0.019819895171968038, 'min_split_loss': 5.351287190516026, 'max_depth': 5, 'max_leaves': 2, 'max_bin': 247, 'min_child_weight': 8, 'max_delta_step': 7, 'subsample': 0.0263671374351995, 'colsample_bytree': 0.09184811519361394, 'reg_lambda': 0.017327088005026543, 'reg_alpha': 1.994534676036946e-05}. Best is trial 0 with value: 0.38146997929606624.\n",
      "[I 2024-09-17 18:45:31,751] Trial 5 finished with value: 0.38146997929606624 and parameters: {'n_estimators': 655, 'learning_rate': 0.24853215100302592, 'min_split_loss': 5.0780622307020264, 'max_depth': 8, 'max_leaves': 3, 'max_bin': 147, 'min_child_weight': 7, 'max_delta_step': 6, 'subsample': 0.06534990906084548, 'colsample_bytree': 0.012190930462097438, 'reg_lambda': 0.0013407058639857924, 'reg_alpha': 1.338529115953716e-08}. Best is trial 0 with value: 0.38146997929606624.\n",
      "[I 2024-09-17 18:45:32,033] Trial 6 finished with value: 0.38146997929606624 and parameters: {'n_estimators': 394, 'learning_rate': 0.24640992243119048, 'min_split_loss': 3.1408813725458904, 'max_depth': 10, 'max_leaves': 3, 'max_bin': 140, 'min_child_weight': 9, 'max_delta_step': 5, 'subsample': 0.05153353045191559, 'colsample_bytree': 0.036458794005247624, 'reg_lambda': 5.817639518983014e-05, 'reg_alpha': 0.6052733184778408}. Best is trial 0 with value: 0.38146997929606624.\n",
      "[I 2024-09-17 18:45:32,321] Trial 7 finished with value: 0.38146997929606624 and parameters: {'n_estimators': 424, 'learning_rate': 0.26090108821738406, 'min_split_loss': 9.400745145800073, 'max_depth': 3, 'max_leaves': 9, 'max_bin': 182, 'min_child_weight': 6, 'max_delta_step': 2, 'subsample': 0.31580661642269825, 'colsample_bytree': 0.6671549410210492, 'reg_lambda': 0.0003023008314937213, 'reg_alpha': 0.0003133788556162727}. Best is trial 0 with value: 0.38146997929606624.\n",
      "[I 2024-09-17 18:45:32,662] Trial 8 finished with value: 0.38146997929606624 and parameters: {'n_estimators': 550, 'learning_rate': 0.014371422847625975, 'min_split_loss': 4.908082196373426, 'max_depth': 5, 'max_leaves': 2, 'max_bin': 159, 'min_child_weight': 8, 'max_delta_step': 4, 'subsample': 0.03732796083231228, 'colsample_bytree': 0.2833278612637811, 'reg_lambda': 3.4104824597298816e-07, 'reg_alpha': 0.030206389867174208}. Best is trial 0 with value: 0.38146997929606624.\n",
      "[I 2024-09-17 18:45:32,957] Trial 9 finished with value: 0.38146997929606624 and parameters: {'n_estimators': 442, 'learning_rate': 0.02603478918342729, 'min_split_loss': 9.977239500166377, 'max_depth': 5, 'max_leaves': 5, 'max_bin': 216, 'min_child_weight': 4, 'max_delta_step': 7, 'subsample': 0.03282174766459105, 'colsample_bytree': 0.0725081932434505, 'reg_lambda': 0.0010412958756019647, 'reg_alpha': 1.2764915829304386e-07}. Best is trial 0 with value: 0.38146997929606624.\n",
      "[I 2024-09-17 18:45:33,127] Trial 10 finished with value: 0.6228359341306953 and parameters: {'n_estimators': 51, 'learning_rate': 0.9044271092974789, 'min_split_loss': 0.28899031989802637, 'max_depth': 7, 'max_leaves': 8, 'max_bin': 174, 'min_child_weight': 1, 'max_delta_step': 10, 'subsample': 0.9794533930797393, 'colsample_bytree': 0.012327539130730331, 'reg_lambda': 0.94902207059799, 'reg_alpha': 0.0035134268991748527}. Best is trial 10 with value: 0.6228359341306953.\n",
      "[I 2024-09-17 18:45:33,307] Trial 11 finished with value: 0.6175457614963799 and parameters: {'n_estimators': 66, 'learning_rate': 0.9857743569933746, 'min_split_loss': 0.828340800640417, 'max_depth': 7, 'max_leaves': 8, 'max_bin': 175, 'min_child_weight': 1, 'max_delta_step': 10, 'subsample': 0.9437038764435852, 'colsample_bytree': 0.01109114259028343, 'reg_lambda': 1.5660696254432325, 'reg_alpha': 0.0031070073384101807}. Best is trial 10 with value: 0.6228359341306953.\n",
      "[I 2024-09-17 18:45:33,509] Trial 12 finished with value: 0.6150610091955729 and parameters: {'n_estimators': 91, 'learning_rate': 0.9281766023917286, 'min_split_loss': 0.3563956374442331, 'max_depth': 7, 'max_leaves': 7, 'max_bin': 174, 'min_child_weight': 1, 'max_delta_step': 9, 'subsample': 0.9445275627467054, 'colsample_bytree': 0.012599416993720133, 'reg_lambda': 1.3919159137139767, 'reg_alpha': 0.0007757575146949316}. Best is trial 10 with value: 0.6228359341306953.\n",
      "[I 2024-09-17 18:45:33,794] Trial 13 finished with value: 0.4957560290882748 and parameters: {'n_estimators': 217, 'learning_rate': 0.7783325819895272, 'min_split_loss': 0.19217014642641103, 'max_depth': 7, 'max_leaves': 10, 'max_bin': 200, 'min_child_weight': 1, 'max_delta_step': 8, 'subsample': 0.20639874810126546, 'colsample_bytree': 0.021079519295984485, 'reg_lambda': 1.4628182242843262, 'reg_alpha': 0.0027250058437532213}. Best is trial 10 with value: 0.6228359341306953.\n",
      "[I 2024-09-17 18:45:34,392] Trial 14 finished with value: 0.41828757371734726 and parameters: {'n_estimators': 885, 'learning_rate': 0.5375681438874627, 'min_split_loss': 0.7472762088270929, 'max_depth': 3, 'max_leaves': 7, 'max_bin': 163, 'min_child_weight': 2, 'max_delta_step': 9, 'subsample': 0.31672748362575814, 'colsample_bytree': 0.010042724202831584, 'reg_lambda': 0.1042121396460221, 'reg_alpha': 3.159611063570746e-05}. Best is trial 10 with value: 0.6228359341306953.\n",
      "[I 2024-09-17 18:45:34,631] Trial 15 finished with value: 0.38146997929606624 and parameters: {'n_estimators': 183, 'learning_rate': 0.1092059524422084, 'min_split_loss': 2.155317389179836, 'max_depth': 10, 'max_leaves': 0, 'max_bin': 195, 'min_child_weight': 2, 'max_delta_step': 9, 'subsample': 0.1382112928111408, 'colsample_bytree': 0.038428051508818506, 'reg_lambda': 0.08225833523939155, 'reg_alpha': 1.535177335586932e-06}. Best is trial 10 with value: 0.6228359341306953.\n",
      "[I 2024-09-17 18:45:34,892] Trial 16 finished with value: 0.42913728420429953 and parameters: {'n_estimators': 185, 'learning_rate': 0.13475156688452886, 'min_split_loss': 1.5111625486818543, 'max_depth': 7, 'max_leaves': 6, 'max_bin': 178, 'min_child_weight': 3, 'max_delta_step': 1, 'subsample': 0.966162954404803, 'colsample_bytree': 0.01970692238502823, 'reg_lambda': 9.454994086795905e-06, 'reg_alpha': 1.4423077040061858}. Best is trial 10 with value: 0.6228359341306953.\n",
      "[I 2024-09-17 18:45:35,218] Trial 17 finished with value: 0.6475852379726125 and parameters: {'n_estimators': 328, 'learning_rate': 0.6474248524643859, 'min_split_loss': 3.631439361923188, 'max_depth': 3, 'max_leaves': 10, 'max_bin': 209, 'min_child_weight': 1, 'max_delta_step': 10, 'subsample': 0.47038497811250923, 'colsample_bytree': 0.15249121046326355, 'reg_lambda': 0.11129248146231668, 'reg_alpha': 0.025078784635486115}. Best is trial 17 with value: 0.6475852379726125.\n",
      "[I 2024-09-17 18:45:35,527] Trial 18 finished with value: 0.38146997929606624 and parameters: {'n_estimators': 310, 'learning_rate': 0.49846080801366005, 'min_split_loss': 3.9211292384227274, 'max_depth': 3, 'max_leaves': 10, 'max_bin': 207, 'min_child_weight': 3, 'max_delta_step': 8, 'subsample': 0.4633523476520442, 'colsample_bytree': 0.19713952444751573, 'reg_lambda': 0.0399472749803825, 'reg_alpha': 0.05933201642455552}. Best is trial 17 with value: 0.6475852379726125.\n",
      "[I 2024-09-17 18:45:36,097] Trial 19 finished with value: 0.38146997929606624 and parameters: {'n_estimators': 767, 'learning_rate': 0.04846065871920967, 'min_split_loss': 6.918768264429673, 'max_depth': 1, 'max_leaves': 9, 'max_bin': 236, 'min_child_weight': 10, 'max_delta_step': 8, 'subsample': 0.1406304183812669, 'colsample_bytree': 0.1519723602543243, 'reg_lambda': 0.008647043518350293, 'reg_alpha': 0.1511179444763093}. Best is trial 17 with value: 0.6475852379726125.\n",
      "[I 2024-09-17 18:45:36,392] Trial 20 finished with value: 0.6042006337222636 and parameters: {'n_estimators': 298, 'learning_rate': 0.5450545294115426, 'min_split_loss': 3.1697331257855526, 'max_depth': 4, 'max_leaves': 9, 'max_bin': 129, 'min_child_weight': 2, 'max_delta_step': 10, 'subsample': 0.49380968168559825, 'colsample_bytree': 0.896130358365635, 'reg_lambda': 0.4351167041663809, 'reg_alpha': 0.00021524481350424657}. Best is trial 17 with value: 0.6475852379726125.\n",
      "[I 2024-09-17 18:45:36,617] Trial 21 finished with value: 0.6640943117715729 and parameters: {'n_estimators': 128, 'learning_rate': 0.948659288304528, 'min_split_loss': 1.4327165625471308, 'max_depth': 6, 'max_leaves': 8, 'max_bin': 186, 'min_child_weight': 1, 'max_delta_step': 10, 'subsample': 0.6698294156397966, 'colsample_bytree': 0.05635868958083839, 'reg_lambda': 0.26334572524586974, 'reg_alpha': 0.00412325143432774}. Best is trial 21 with value: 0.6640943117715729.\n",
      "[I 2024-09-17 18:45:36,857] Trial 22 finished with value: 0.6110443997994198 and parameters: {'n_estimators': 158, 'learning_rate': 0.6633759593209523, 'min_split_loss': 1.6839929651915768, 'max_depth': 6, 'max_leaves': 7, 'max_bin': 188, 'min_child_weight': 1, 'max_delta_step': 9, 'subsample': 0.6217630705373509, 'colsample_bytree': 0.0528321379086935, 'reg_lambda': 0.2076336192495387, 'reg_alpha': 0.007391209045783539}. Best is trial 21 with value: 0.6640943117715729.\n",
      "[I 2024-09-17 18:45:37,127] Trial 23 finished with value: 0.38146997929606624 and parameters: {'n_estimators': 235, 'learning_rate': 0.4037266485556448, 'min_split_loss': 3.042730359172576, 'max_depth': 4, 'max_leaves': 10, 'max_bin': 206, 'min_child_weight': 2, 'max_delta_step': 10, 'subsample': 0.32982164527286395, 'colsample_bytree': 0.16604684179318718, 'reg_lambda': 0.0061355017051423185, 'reg_alpha': 0.0013004473809998989}. Best is trial 21 with value: 0.6640943117715729.\n",
      "[I 2024-09-17 18:45:37,345] Trial 24 finished with value: 0.38146997929606624 and parameters: {'n_estimators': 130, 'learning_rate': 0.14752825751899767, 'min_split_loss': 1.4833843212418285, 'max_depth': 2, 'max_leaves': 8, 'max_bin': 163, 'min_child_weight': 4, 'max_delta_step': 8, 'subsample': 0.22580333072377923, 'colsample_bytree': 0.1187542131457739, 'reg_lambda': 0.23343994365948081, 'reg_alpha': 0.016310985660518973}. Best is trial 21 with value: 0.6640943117715729.\n",
      "[I 2024-09-17 18:45:37,692] Trial 25 finished with value: 0.6605179522075012 and parameters: {'n_estimators': 364, 'learning_rate': 0.7047967116319819, 'min_split_loss': 3.9498693406271435, 'max_depth': 4, 'max_leaves': 9, 'max_bin': 190, 'min_child_weight': 1, 'max_delta_step': 9, 'subsample': 0.6696082324682207, 'colsample_bytree': 0.05809038632783849, 'reg_lambda': 0.035675242500346295, 'reg_alpha': 0.00011427980221739225}. Best is trial 21 with value: 0.6640943117715729.\n",
      "[I 2024-09-17 18:45:38,007] Trial 26 finished with value: 0.38146997929606624 and parameters: {'n_estimators': 361, 'learning_rate': 0.1639550212708708, 'min_split_loss': 4.176148763900321, 'max_depth': 4, 'max_leaves': 6, 'max_bin': 191, 'min_child_weight': 3, 'max_delta_step': 7, 'subsample': 0.5993924492263545, 'colsample_bytree': 0.05942798485181327, 'reg_lambda': 0.025749626098805524, 'reg_alpha': 1.153940914028105e-06}. Best is trial 21 with value: 0.6640943117715729.\n",
      "[I 2024-09-17 18:45:38,427] Trial 27 finished with value: 0.38146997929606624 and parameters: {'n_estimators': 494, 'learning_rate': 0.3737261934218587, 'min_split_loss': 6.566539660714717, 'max_depth': 2, 'max_leaves': 9, 'max_bin': 214, 'min_child_weight': 2, 'max_delta_step': 9, 'subsample': 0.44138037286597454, 'colsample_bytree': 0.041557305958353614, 'reg_lambda': 1.727047346034345e-05, 'reg_alpha': 0.00010529249876441754}. Best is trial 21 with value: 0.6640943117715729.\n",
      "[I 2024-09-17 18:45:38,717] Trial 28 finished with value: 0.38146997929606624 and parameters: {'n_estimators': 252, 'learning_rate': 0.010326590432502364, 'min_split_loss': 4.05371751754083, 'max_depth': 2, 'max_leaves': 10, 'max_bin': 201, 'min_child_weight': 5, 'max_delta_step': 9, 'subsample': 0.08534731908178303, 'colsample_bytree': 0.10808125810152157, 'reg_lambda': 0.004353461865356792, 'reg_alpha': 4.721497839285026e-06}. Best is trial 21 with value: 0.6640943117715729.\n",
      "[I 2024-09-17 18:45:39,187] Trial 29 finished with value: 0.38146997929606624 and parameters: {'n_estimators': 350, 'learning_rate': 0.6635843364800462, 'min_split_loss': 8.113549748155817, 'max_depth': 4, 'max_leaves': 8, 'max_bin': 187, 'min_child_weight': 4, 'max_delta_step': 10, 'subsample': 0.21855656654091593, 'colsample_bytree': 0.0289554197537506, 'reg_lambda': 0.039787072046259045, 'reg_alpha': 7.343845822485861e-05}. Best is trial 21 with value: 0.6640943117715729.\n",
      "[I 2024-09-17 18:45:39,565] Trial 30 finished with value: 0.616372230710466 and parameters: {'n_estimators': 491, 'learning_rate': 0.46055602378818505, 'min_split_loss': 2.5012666144489772, 'max_depth': 6, 'max_leaves': 6, 'max_bin': 233, 'min_child_weight': 1, 'max_delta_step': 8, 'subsample': 0.6278522194187175, 'colsample_bytree': 0.2090403177388746, 'reg_lambda': 0.33820180250204124, 'reg_alpha': 0.0004867807095425327}. Best is trial 21 with value: 0.6640943117715729.\n",
      "[I 2024-09-17 18:45:39,727] Trial 31 finished with value: 0.5872686953569307 and parameters: {'n_estimators': 50, 'learning_rate': 0.7731000315279452, 'min_split_loss': 1.3756777181008017, 'max_depth': 8, 'max_leaves': 9, 'max_bin': 170, 'min_child_weight': 1, 'max_delta_step': 10, 'subsample': 0.7296915846520433, 'colsample_bytree': 0.017028266925879085, 'reg_lambda': 0.5052268197728974, 'reg_alpha': 0.006666572285586587}. Best is trial 21 with value: 0.6640943117715729.\n",
      "[I 2024-09-17 18:45:39,912] Trial 32 finished with value: 0.38146997929606624 and parameters: {'n_estimators': 117, 'learning_rate': 0.993680377250144, 'min_split_loss': 0.004160966995183202, 'max_depth': 5, 'max_leaves': 8, 'max_bin': 197, 'min_child_weight': 2, 'max_delta_step': 10, 'subsample': 0.010805872223539296, 'colsample_bytree': 0.0584600929262389, 'reg_lambda': 0.09960758952367843, 'reg_alpha': 0.0018488736729326731}. Best is trial 21 with value: 0.6640943117715729.\n",
      "[I 2024-09-17 18:45:40,162] Trial 33 finished with value: 0.6514600760525636 and parameters: {'n_estimators': 267, 'learning_rate': 0.6959772019603205, 'min_split_loss': 2.6007476572887422, 'max_depth': 8, 'max_leaves': 7, 'max_bin': 183, 'min_child_weight': 1, 'max_delta_step': 10, 'subsample': 0.7576500883412124, 'colsample_bytree': 0.1305009527300776, 'reg_lambda': 0.6583650914542054, 'reg_alpha': 0.15960034445975008}. Best is trial 21 with value: 0.6640943117715729.\n",
      "[I 2024-09-17 18:45:40,449] Trial 34 finished with value: 0.38146997929606624 and parameters: {'n_estimators': 270, 'learning_rate': 0.06071504555178863, 'min_split_loss': 3.67275220957368, 'max_depth': 9, 'max_leaves': 7, 'max_bin': 217, 'min_child_weight': 3, 'max_delta_step': 9, 'subsample': 0.3733667944866186, 'colsample_bytree': 0.1290382286286576, 'reg_lambda': 0.018352903973456052, 'reg_alpha': 0.29534235139602394}. Best is trial 21 with value: 0.6640943117715729.\n",
      "[I 2024-09-17 18:45:40,757] Trial 35 finished with value: 0.5950192762094266 and parameters: {'n_estimators': 343, 'learning_rate': 0.31259249228688457, 'min_split_loss': 2.4841026595973394, 'max_depth': 8, 'max_leaves': 5, 'max_bin': 185, 'min_child_weight': 2, 'max_delta_step': 10, 'subsample': 0.728582896961048, 'colsample_bytree': 0.08420142053311647, 'reg_lambda': 0.11141049642329523, 'reg_alpha': 0.06303586863389382}. Best is trial 21 with value: 0.6640943117715729.\n",
      "[I 2024-09-17 18:45:41,042] Trial 36 finished with value: 0.589082297312296 and parameters: {'n_estimators': 214, 'learning_rate': 0.6393795890461242, 'min_split_loss': 4.579962266565779, 'max_depth': 9, 'max_leaves': 9, 'max_bin': 210, 'min_child_weight': 1, 'max_delta_step': 9, 'subsample': 0.5097300013160433, 'colsample_bytree': 0.26099928591122873, 'reg_lambda': 1.6659252009457816e-08, 'reg_alpha': 0.03575422164251046}. Best is trial 21 with value: 0.6640943117715729.\n",
      "[I 2024-09-17 18:45:41,492] Trial 37 finished with value: 0.38146997929606624 and parameters: {'n_estimators': 390, 'learning_rate': 0.319772149974296, 'min_split_loss': 5.792151305117207, 'max_depth': 3, 'max_leaves': 10, 'max_bin': 221, 'min_child_weight': 3, 'max_delta_step': 6, 'subsample': 0.25555709853010733, 'colsample_bytree': 0.4612018477717762, 'reg_lambda': 0.002604651434269746, 'reg_alpha': 1.8589555378028153}. Best is trial 21 with value: 0.6640943117715729.\n",
      "[I 2024-09-17 18:45:41,757] Trial 38 finished with value: 0.38146997929606624 and parameters: {'n_estimators': 291, 'learning_rate': 0.19822362569056548, 'min_split_loss': 3.29180461451365, 'max_depth': 6, 'max_leaves': 7, 'max_bin': 193, 'min_child_weight': 2, 'max_delta_step': 3, 'subsample': 0.16189027924339747, 'colsample_bytree': 0.0699312808518515, 'reg_lambda': 0.0007307060202020882, 'reg_alpha': 0.15759618609884676}. Best is trial 21 with value: 0.6640943117715729.\n",
      "[I 2024-09-17 18:45:42,112] Trial 39 finished with value: 0.38146997929606624 and parameters: {'n_estimators': 456, 'learning_rate': 0.44820544489382896, 'min_split_loss': 6.085866153588057, 'max_depth': 5, 'max_leaves': 4, 'max_bin': 253, 'min_child_weight': 5, 'max_delta_step': 7, 'subsample': 0.3946189323461049, 'colsample_bytree': 0.04702115712259183, 'reg_lambda': 2.683447737849663e-07, 'reg_alpha': 0.49510112420855906}. Best is trial 21 with value: 0.6640943117715729.\n",
      "[I 2024-09-17 18:45:42,538] Trial 40 finished with value: 0.38146997929606624 and parameters: {'n_estimators': 542, 'learning_rate': 0.6324166424578682, 'min_split_loss': 4.508662347823204, 'max_depth': 4, 'max_leaves': 8, 'max_bin': 154, 'min_child_weight': 7, 'max_delta_step': 5, 'subsample': 0.7528252905035565, 'colsample_bytree': 0.02872891662796184, 'reg_lambda': 0.01240987264213042, 'reg_alpha': 0.0200119198759153}. Best is trial 21 with value: 0.6640943117715729.\n",
      "[I 2024-09-17 18:45:42,758] Trial 41 finished with value: 0.6466135761178199 and parameters: {'n_estimators': 143, 'learning_rate': 0.8388426135175284, 'min_split_loss': 2.05063030660516, 'max_depth': 9, 'max_leaves': 8, 'max_bin': 179, 'min_child_weight': 1, 'max_delta_step': 10, 'subsample': 0.73777426805335, 'colsample_bytree': 0.0886245649980802, 'reg_lambda': 0.720042194486768, 'reg_alpha': 0.00580733600775944}. Best is trial 21 with value: 0.6640943117715729.\n",
      "[I 2024-09-17 18:45:42,957] Trial 42 finished with value: 0.6446991898799128 and parameters: {'n_estimators': 134, 'learning_rate': 0.7655095590263016, 'min_split_loss': 2.246208246899599, 'max_depth': 9, 'max_leaves': 9, 'max_bin': 181, 'min_child_weight': 1, 'max_delta_step': 10, 'subsample': 0.7836151739273557, 'colsample_bytree': 0.09561632928364265, 'reg_lambda': 0.5740679717323858, 'reg_alpha': 0.011614946601340766}. Best is trial 21 with value: 0.6640943117715729.\n",
      "[I 2024-09-17 18:45:43,264] Trial 43 finished with value: 0.6286063019585344 and parameters: {'n_estimators': 400, 'learning_rate': 0.7479826467703939, 'min_split_loss': 2.753617419293353, 'max_depth': 10, 'max_leaves': 8, 'max_bin': 170, 'min_child_weight': 1, 'max_delta_step': 10, 'subsample': 0.5797400710637125, 'colsample_bytree': 0.14439250674693158, 'reg_lambda': 0.18812810322045762, 'reg_alpha': 0.0005652628585803288}. Best is trial 21 with value: 0.6640943117715729.\n",
      "[I 2024-09-17 18:45:43,488] Trial 44 finished with value: 0.6743482631702177 and parameters: {'n_estimators': 179, 'learning_rate': 0.22771799302047763, 'min_split_loss': 1.8983911391288901, 'max_depth': 8, 'max_leaves': 9, 'max_bin': 204, 'min_child_weight': 2, 'max_delta_step': 9, 'subsample': 0.7829061948886192, 'colsample_bytree': 0.07112342788949375, 'reg_lambda': 0.043827027976234716, 'reg_alpha': 0.05535057765123046}. Best is trial 44 with value: 0.6743482631702177.\n",
      "[I 2024-09-17 18:45:43,770] Trial 45 finished with value: 0.5050260683983738 and parameters: {'n_estimators': 322, 'learning_rate': 0.21469617299707558, 'min_split_loss': 3.516646552431526, 'max_depth': 8, 'max_leaves': 10, 'max_bin': 228, 'min_child_weight': 2, 'max_delta_step': 8, 'subsample': 0.5255755013087915, 'colsample_bytree': 0.06801515659845814, 'reg_lambda': 0.025228974850990165, 'reg_alpha': 0.08125644765315441}. Best is trial 44 with value: 0.6743482631702177.\n",
      "[I 2024-09-17 18:45:43,998] Trial 46 finished with value: 0.5765860962051174 and parameters: {'n_estimators': 202, 'learning_rate': 0.5395549193600848, 'min_split_loss': 2.728334488099409, 'max_depth': 8, 'max_leaves': 9, 'max_bin': 201, 'min_child_weight': 1, 'max_delta_step': 9, 'subsample': 0.3842028587763379, 'colsample_bytree': 0.3632992018841282, 'reg_lambda': 1.2139662702736556e-06, 'reg_alpha': 0.280988461502868}. Best is trial 44 with value: 0.6743482631702177.\n",
      "[I 2024-09-17 18:45:44,254] Trial 47 finished with value: 0.49275631201097037 and parameters: {'n_estimators': 259, 'learning_rate': 0.26469556593685156, 'min_split_loss': 1.1304247537217849, 'max_depth': 6, 'max_leaves': 10, 'max_bin': 204, 'min_child_weight': 3, 'max_delta_step': 9, 'subsample': 0.8354484838435505, 'colsample_bytree': 0.03194088488412138, 'reg_lambda': 0.05763876814559845, 'reg_alpha': 4.22216433662285e-05}. Best is trial 44 with value: 0.6743482631702177.\n",
      "[I 2024-09-17 18:45:44,477] Trial 48 finished with value: 0.38146997929606624 and parameters: {'n_estimators': 188, 'learning_rate': 0.06649792757889143, 'min_split_loss': 0.7981902197347575, 'max_depth': 3, 'max_leaves': 7, 'max_bin': 211, 'min_child_weight': 2, 'max_delta_step': 8, 'subsample': 0.2787838431145528, 'colsample_bytree': 0.2048279523864143, 'reg_lambda': 0.0004833171913229603, 'reg_alpha': 8.516645034276473e-06}. Best is trial 44 with value: 0.6743482631702177.\n",
      "[I 2024-09-17 18:45:44,662] Trial 49 finished with value: 0.651145115816769 and parameters: {'n_estimators': 98, 'learning_rate': 0.40546258030671706, 'min_split_loss': 1.9626979378668263, 'max_depth': 7, 'max_leaves': 6, 'max_bin': 192, 'min_child_weight': 1, 'max_delta_step': 7, 'subsample': 0.6377501437594836, 'colsample_bytree': 0.10102871224522218, 'reg_lambda': 0.0022173422081615862, 'reg_alpha': 0.03802313689685313}. Best is trial 44 with value: 0.6743482631702177.\n",
      "[I 2024-09-17 18:45:44,863] Trial 50 finished with value: 0.38146997929606624 and parameters: {'n_estimators': 94, 'learning_rate': 0.42576734455799686, 'min_split_loss': 1.9097034096294725, 'max_depth': 7, 'max_leaves': 6, 'max_bin': 191, 'min_child_weight': 6, 'max_delta_step': 7, 'subsample': 0.02516043993334695, 'colsample_bytree': 0.04499176774901718, 'reg_lambda': 0.00015105963010264198, 'reg_alpha': 0.726443056312882}. Best is trial 44 with value: 0.6743482631702177.\n",
      "[I 2024-09-17 18:45:45,055] Trial 51 finished with value: 0.519791845645048 and parameters: {'n_estimators': 96, 'learning_rate': 0.3729059841057493, 'min_split_loss': 2.9800346425084676, 'max_depth': 8, 'max_leaves': 6, 'max_bin': 196, 'min_child_weight': 1, 'max_delta_step': 9, 'subsample': 0.8830727557443524, 'colsample_bytree': 0.11688894939510663, 'reg_lambda': 0.0021025428406461545, 'reg_alpha': 0.02540666344037456}. Best is trial 44 with value: 0.6743482631702177.\n",
      "[I 2024-09-17 18:45:45,277] Trial 52 finished with value: 0.688200801500695 and parameters: {'n_estimators': 177, 'learning_rate': 0.5683748930635135, 'min_split_loss': 1.08453056948852, 'max_depth': 7, 'max_leaves': 5, 'max_bin': 187, 'min_child_weight': 1, 'max_delta_step': 6, 'subsample': 0.6087200131106071, 'colsample_bytree': 0.07317213219278966, 'reg_lambda': 1.8854197021232464, 'reg_alpha': 0.09696958363421158}. Best is trial 52 with value: 0.688200801500695.\n",
      "[I 2024-09-17 18:45:45,557] Trial 53 finished with value: 0.6241891853002964 and parameters: {'n_estimators': 238, 'learning_rate': 0.5550380673059199, 'min_split_loss': 0.9795696396282036, 'max_depth': 7, 'max_leaves': 4, 'max_bin': 183, 'min_child_weight': 2, 'max_delta_step': 6, 'subsample': 0.6318027220261756, 'colsample_bytree': 0.0740921495307582, 'reg_lambda': 1.8518025031093817, 'reg_alpha': 0.0832923544055033}. Best is trial 52 with value: 0.688200801500695.\n",
      "[I 2024-09-17 18:45:45,776] Trial 54 finished with value: 0.6353417245442458 and parameters: {'n_estimators': 160, 'learning_rate': 0.3167554673446902, 'min_split_loss': 0.6268693550509046, 'max_depth': 7, 'max_leaves': 5, 'max_bin': 169, 'min_child_weight': 1, 'max_delta_step': 5, 'subsample': 0.9562281258967367, 'colsample_bytree': 0.056354840990444056, 'reg_lambda': 1.1283205795785956, 'reg_alpha': 0.1725574204751156}. Best is trial 52 with value: 0.688200801500695.\n",
      "[I 2024-09-17 18:45:46,047] Trial 55 finished with value: 0.38146997929606624 and parameters: {'n_estimators': 170, 'learning_rate': 0.2281301752447768, 'min_split_loss': 1.795871254544226, 'max_depth': 6, 'max_leaves': 5, 'max_bin': 188, 'min_child_weight': 2, 'max_delta_step': 4, 'subsample': 0.4118709938202808, 'colsample_bytree': 0.09650920756806773, 'reg_lambda': 7.214635305792661e-05, 'reg_alpha': 0.03961901316129504}. Best is trial 52 with value: 0.688200801500695.\n",
      "[I 2024-09-17 18:45:46,264] Trial 56 finished with value: 0.5958745231639176 and parameters: {'n_estimators': 84, 'learning_rate': 0.8759074406827306, 'min_split_loss': 1.2664162210853687, 'max_depth': 7, 'max_leaves': 4, 'max_bin': 178, 'min_child_weight': 1, 'max_delta_step': 7, 'subsample': 0.5596746436289652, 'colsample_bytree': 0.04952020292179299, 'reg_lambda': 0.2292354104919127, 'reg_alpha': 0.7754005860704263}. Best is trial 52 with value: 0.688200801500695.\n",
      "[I 2024-09-17 18:45:46,465] Trial 57 finished with value: 0.5783540542513997 and parameters: {'n_estimators': 110, 'learning_rate': 0.08645720224128978, 'min_split_loss': 0.5311642602360984, 'max_depth': 6, 'max_leaves': 7, 'max_bin': 199, 'min_child_weight': 1, 'max_delta_step': 6, 'subsample': 0.6763073940863102, 'colsample_bytree': 0.03714151218181978, 'reg_lambda': 0.05018914901991955, 'reg_alpha': 0.00022151333712582216}. Best is trial 52 with value: 0.688200801500695.\n",
      "[I 2024-09-17 18:45:46,777] Trial 58 finished with value: 0.38146997929606624 and parameters: {'n_estimators': 280, 'learning_rate': 0.5802809595824825, 'min_split_loss': 2.4214513064682013, 'max_depth': 8, 'max_leaves': 6, 'max_bin': 174, 'min_child_weight': 8, 'max_delta_step': 7, 'subsample': 0.05225992848548704, 'colsample_bytree': 0.06243495863698778, 'reg_lambda': 0.009563211884908586, 'reg_alpha': 0.003639044391817731}. Best is trial 52 with value: 0.688200801500695.\n",
      "[I 2024-09-17 18:45:47,117] Trial 59 finished with value: 0.5076039728366765 and parameters: {'n_estimators': 219, 'learning_rate': 0.17992283261568603, 'min_split_loss': 1.8431592935003207, 'max_depth': 8, 'max_leaves': 2, 'max_bin': 183, 'min_child_weight': 2, 'max_delta_step': 5, 'subsample': 0.9971753650182505, 'colsample_bytree': 0.07953489741105423, 'reg_lambda': 0.003567958677844173, 'reg_alpha': 0.33297524776091547}. Best is trial 52 with value: 0.688200801500695.\n",
      "[I 2024-09-17 18:45:47,405] Trial 60 finished with value: 0.38146997929606624 and parameters: {'n_estimators': 144, 'learning_rate': 0.46703965207466225, 'min_split_loss': 1.5382094647353517, 'max_depth': 5, 'max_leaves': 7, 'max_bin': 193, 'min_child_weight': 3, 'max_delta_step': 8, 'subsample': 0.34028436292114916, 'colsample_bytree': 0.10698786483080748, 'reg_lambda': 0.79526722953139, 'reg_alpha': 0.0014257337856902865}. Best is trial 52 with value: 0.688200801500695.\n",
      "[I 2024-09-17 18:45:47,692] Trial 61 finished with value: 0.6419489157191426 and parameters: {'n_estimators': 314, 'learning_rate': 0.6669121974261116, 'min_split_loss': 3.5039077430929035, 'max_depth': 7, 'max_leaves': 9, 'max_bin': 203, 'min_child_weight': 1, 'max_delta_step': 10, 'subsample': 0.4906131542929305, 'colsample_bytree': 0.16569703117407442, 'reg_lambda': 0.10861528117036683, 'reg_alpha': 0.010921592125850617}. Best is trial 52 with value: 0.688200801500695.\n",
      "[I 2024-09-17 18:45:47,922] Trial 62 finished with value: 0.5026769682231867 and parameters: {'n_estimators': 191, 'learning_rate': 0.7204233512712735, 'min_split_loss': 5.01436808619385, 'max_depth': 7, 'max_leaves': 8, 'max_bin': 190, 'min_child_weight': 1, 'max_delta_step': 9, 'subsample': 0.8335537538067944, 'colsample_bytree': 0.13704537419941915, 'reg_lambda': 0.35296677938479576, 'reg_alpha': 0.11629396678976936}. Best is trial 52 with value: 0.688200801500695.\n",
      "[I 2024-09-17 18:45:48,167] Trial 63 finished with value: 0.4487527063403723 and parameters: {'n_estimators': 239, 'learning_rate': 0.9728765763995547, 'min_split_loss': 4.434920849460628, 'max_depth': 2, 'max_leaves': 9, 'max_bin': 206, 'min_child_weight': 2, 'max_delta_step': 10, 'subsample': 0.4742490039117638, 'colsample_bytree': 0.17374631293951517, 'reg_lambda': 0.15923383536729238, 'reg_alpha': 0.04579471127217653}. Best is trial 52 with value: 0.688200801500695.\n",
      "[I 2024-09-17 18:45:48,467] Trial 64 finished with value: 0.5542175538418787 and parameters: {'n_estimators': 370, 'learning_rate': 0.37175177221663575, 'min_split_loss': 2.82636435756346, 'max_depth': 6, 'max_leaves': 0, 'max_bin': 210, 'min_child_weight': 1, 'max_delta_step': 6, 'subsample': 0.6579128927294645, 'colsample_bytree': 0.08187040876316799, 'reg_lambda': 0.03269226346948333, 'reg_alpha': 0.016780364394274074}. Best is trial 52 with value: 0.688200801500695.\n",
      "[I 2024-09-17 18:45:48,789] Trial 65 finished with value: 0.38146997929606624 and parameters: {'n_estimators': 421, 'learning_rate': 0.49319008105189216, 'min_split_loss': 3.700462588209467, 'max_depth': 5, 'max_leaves': 10, 'max_bin': 219, 'min_child_weight': 10, 'max_delta_step': 9, 'subsample': 0.5559329588908483, 'colsample_bytree': 0.23532868944150767, 'reg_lambda': 0.0699878500409413, 'reg_alpha': 0.004356801796118934}. Best is trial 52 with value: 0.688200801500695.\n",
      "[I 2024-09-17 18:45:49,073] Trial 66 finished with value: 0.38146997929606624 and parameters: {'n_estimators': 329, 'learning_rate': 0.8426897390620504, 'min_split_loss': 1.1626035431821018, 'max_depth': 3, 'max_leaves': 6, 'max_bin': 197, 'min_child_weight': 2, 'max_delta_step': 10, 'subsample': 0.08784274088775591, 'colsample_bytree': 0.12119145186888028, 'reg_lambda': 0.3814234859313926, 'reg_alpha': 1.1157815230809915}. Best is trial 52 with value: 0.688200801500695.\n",
      "[I 2024-09-17 18:45:49,263] Trial 67 finished with value: 0.38146997929606624 and parameters: {'n_estimators': 71, 'learning_rate': 0.026446761008893892, 'min_split_loss': 2.208762943735678, 'max_depth': 4, 'max_leaves': 5, 'max_bin': 186, 'min_child_weight': 1, 'max_delta_step': 8, 'subsample': 0.43642855313615236, 'colsample_bytree': 0.06429179320821317, 'reg_lambda': 1.7605775695625867, 'reg_alpha': 1.4013129274122372e-08}. Best is trial 52 with value: 0.688200801500695.\n",
      "[I 2024-09-17 18:45:49,708] Trial 68 finished with value: 0.38146997929606624 and parameters: {'n_estimators': 675, 'learning_rate': 0.6025789438442283, 'min_split_loss': 8.001505726974724, 'max_depth': 1, 'max_leaves': 8, 'max_bin': 224, 'min_child_weight': 2, 'max_delta_step': 10, 'subsample': 0.2712521377901872, 'colsample_bytree': 0.05061576117816817, 'reg_lambda': 0.00660593094160213, 'reg_alpha': 0.0009100042433742308}. Best is trial 52 with value: 0.688200801500695.\n",
      "[I 2024-09-17 18:45:50,227] Trial 69 finished with value: 0.38146997929606624 and parameters: {'n_estimators': 880, 'learning_rate': 0.27803302468455743, 'min_split_loss': 4.104809977319138, 'max_depth': 7, 'max_leaves': 7, 'max_bin': 194, 'min_child_weight': 7, 'max_delta_step': 1, 'subsample': 0.8412712208868446, 'colsample_bytree': 0.0987250677044104, 'reg_lambda': 0.8940911950479841, 'reg_alpha': 0.18069510463921976}. Best is trial 52 with value: 0.688200801500695.\n",
      "[I 2024-09-17 18:45:50,497] Trial 70 finished with value: 0.38146997929606624 and parameters: {'n_estimators': 275, 'learning_rate': 0.12045274192786584, 'min_split_loss': 3.354145567067396, 'max_depth': 8, 'max_leaves': 9, 'max_bin': 163, 'min_child_weight': 1, 'max_delta_step': 9, 'subsample': 0.176236653320412, 'colsample_bytree': 0.042075056774093705, 'reg_lambda': 0.016009135937898437, 'reg_alpha': 0.002349081002377974}. Best is trial 52 with value: 0.688200801500695.\n",
      "[I 2024-09-17 18:45:50,709] Trial 71 finished with value: 0.6472327570972928 and parameters: {'n_estimators': 132, 'learning_rate': 0.6687416853531004, 'min_split_loss': 2.069200201463782, 'max_depth': 9, 'max_leaves': 8, 'max_bin': 179, 'min_child_weight': 1, 'max_delta_step': 10, 'subsample': 0.7374434108477399, 'colsample_bytree': 0.0822145973947762, 'reg_lambda': 0.6004236360260214, 'reg_alpha': 0.006316933734473443}. Best is trial 52 with value: 0.688200801500695.\n",
      "[I 2024-09-17 18:45:50,917] Trial 72 finished with value: 0.6798000145398175 and parameters: {'n_estimators': 124, 'learning_rate': 0.41685322418554344, 'min_split_loss': 1.6929567791882554, 'max_depth': 9, 'max_leaves': 8, 'max_bin': 177, 'min_child_weight': 1, 'max_delta_step': 10, 'subsample': 0.7126048440087789, 'colsample_bytree': 0.0750674713943769, 'reg_lambda': 0.26496159513309564, 'reg_alpha': 0.010657553799065939}. Best is trial 52 with value: 0.688200801500695.\n",
      "[I 2024-09-17 18:45:51,257] Trial 73 finished with value: 0.6643622335240315 and parameters: {'n_estimators': 167, 'learning_rate': 0.41439821724350656, 'min_split_loss': 1.6442249194163538, 'max_depth': 10, 'max_leaves': 9, 'max_bin': 174, 'min_child_weight': 1, 'max_delta_step': 10, 'subsample': 0.6530817056404415, 'colsample_bytree': 0.06932205776442275, 'reg_lambda': 0.12410505151540761, 'reg_alpha': 0.029966559223744558}. Best is trial 52 with value: 0.688200801500695.\n",
      "[I 2024-09-17 18:45:51,510] Trial 74 finished with value: 0.6310955738442818 and parameters: {'n_estimators': 168, 'learning_rate': 0.3317226087578636, 'min_split_loss': 1.617525022686816, 'max_depth': 10, 'max_leaves': 8, 'max_bin': 166, 'min_child_weight': 1, 'max_delta_step': 10, 'subsample': 0.6693896580531485, 'colsample_bytree': 0.05714178850787756, 'reg_lambda': 0.2640586727504095, 'reg_alpha': 0.07913441242833925}. Best is trial 52 with value: 0.688200801500695.\n",
      "[I 2024-09-17 18:45:51,737] Trial 75 finished with value: 0.5313960997029575 and parameters: {'n_estimators': 110, 'learning_rate': 0.40818205273910024, 'min_split_loss': 0.4395762620203092, 'max_depth': 10, 'max_leaves': 9, 'max_bin': 158, 'min_child_weight': 2, 'max_delta_step': 9, 'subsample': 0.5352448450818106, 'colsample_bytree': 0.07189786220037978, 'reg_lambda': 0.14573267113083674, 'reg_alpha': 0.0117182258988292}. Best is trial 52 with value: 0.688200801500695.\n",
      "[I 2024-09-17 18:45:51,923] Trial 76 finished with value: 0.627984955695799 and parameters: {'n_estimators': 60, 'learning_rate': 0.5087892424339012, 'min_split_loss': 1.3316723521066343, 'max_depth': 9, 'max_leaves': 7, 'max_bin': 172, 'min_child_weight': 1, 'max_delta_step': 10, 'subsample': 0.874980173275611, 'colsample_bytree': 0.09159016032691474, 'reg_lambda': 0.06191711634171025, 'reg_alpha': 0.034379633316218544}. Best is trial 52 with value: 0.688200801500695.\n",
      "[I 2024-09-17 18:45:52,277] Trial 77 finished with value: 0.6120066208301503 and parameters: {'n_estimators': 203, 'learning_rate': 0.4288838890012252, 'min_split_loss': 0.9532479822235398, 'max_depth': 9, 'max_leaves': 9, 'max_bin': 174, 'min_child_weight': 2, 'max_delta_step': 9, 'subsample': 0.6020874559536811, 'colsample_bytree': 0.06521414793857484, 'reg_lambda': 0.001205473119976193, 'reg_alpha': 8.010250525382986e-05}. Best is trial 52 with value: 0.688200801500695.\n",
      "[I 2024-09-17 18:45:52,567] Trial 78 finished with value: 0.599482832231943 and parameters: {'n_estimators': 154, 'learning_rate': 0.24606082733517254, 'min_split_loss': 2.5245041822640255, 'max_depth': 10, 'max_leaves': 8, 'max_bin': 177, 'min_child_weight': 1, 'max_delta_step': 10, 'subsample': 0.6905486434429167, 'colsample_bytree': 0.033324745173900945, 'reg_lambda': 0.025746016054570452, 'reg_alpha': 0.0003358080577831094}. Best is trial 52 with value: 0.688200801500695.\n",
      "[I 2024-09-17 18:45:52,918] Trial 79 finished with value: 0.6340598301382615 and parameters: {'n_estimators': 221, 'learning_rate': 0.8226447500015607, 'min_split_loss': 0.06731834248530477, 'max_depth': 10, 'max_leaves': 5, 'max_bin': 184, 'min_child_weight': 1, 'max_delta_step': 3, 'subsample': 0.3569488437786868, 'colsample_bytree': 0.11095600611115741, 'reg_lambda': 0.4271036000973743, 'reg_alpha': 0.021468627596961904}. Best is trial 52 with value: 0.688200801500695.\n",
      "[I 2024-09-17 18:45:53,257] Trial 80 finished with value: 0.38146997929606624 and parameters: {'n_estimators': 178, 'learning_rate': 0.3544979889943087, 'min_split_loss': 1.6866644763362197, 'max_depth': 8, 'max_leaves': 6, 'max_bin': 189, 'min_child_weight': 2, 'max_delta_step': 9, 'subsample': 0.3001793823839381, 'colsample_bytree': 0.052807131888054, 'reg_lambda': 0.15777796437596825, 'reg_alpha': 0.2822869955016724}. Best is trial 52 with value: 0.688200801500695.\n",
      "[I 2024-09-17 18:45:53,497] Trial 81 finished with value: 0.6603015894682561 and parameters: {'n_estimators': 122, 'learning_rate': 0.714863603357133, 'min_split_loss': 2.364961481668889, 'max_depth': 9, 'max_leaves': 10, 'max_bin': 182, 'min_child_weight': 1, 'max_delta_step': 10, 'subsample': 0.44470210872289306, 'colsample_bytree': 0.12924213523055567, 'reg_lambda': 0.08765632987470494, 'reg_alpha': 0.04172022548586784}. Best is trial 52 with value: 0.688200801500695.\n",
      "[I 2024-09-17 18:45:53,711] Trial 82 finished with value: 0.5601398566737887 and parameters: {'n_estimators': 120, 'learning_rate': 0.738309967374603, 'min_split_loss': 2.249402335293901, 'max_depth': 9, 'max_leaves': 10, 'max_bin': 181, 'min_child_weight': 1, 'max_delta_step': 10, 'subsample': 0.7995909902256054, 'colsample_bytree': 0.13108520999248727, 'reg_lambda': 1.167054022103559, 'reg_alpha': 0.11173685876320426}. Best is trial 52 with value: 0.688200801500695.\n",
      "[I 2024-09-17 18:45:53,907] Trial 83 finished with value: 0.6352837457496229 and parameters: {'n_estimators': 71, 'learning_rate': 0.5901369738562817, 'min_split_loss': 1.9766054425766322, 'max_depth': 8, 'max_leaves': 10, 'max_bin': 186, 'min_child_weight': 1, 'max_delta_step': 10, 'subsample': 0.44902742954672176, 'colsample_bytree': 0.07789593920519446, 'reg_lambda': 0.0882613287572838, 'reg_alpha': 0.05000688580551401}. Best is trial 52 with value: 0.688200801500695.\n",
      "[I 2024-09-17 18:45:54,107] Trial 84 finished with value: 0.646994629567859 and parameters: {'n_estimators': 99, 'learning_rate': 0.928991018170847, 'min_split_loss': 1.4083783504293992, 'max_depth': 9, 'max_leaves': 9, 'max_bin': 167, 'min_child_weight': 1, 'max_delta_step': 10, 'subsample': 0.5597353595475681, 'colsample_bytree': 0.10582380784546618, 'reg_lambda': 0.04501416249466425, 'reg_alpha': 1.965397684595785e-05}. Best is trial 52 with value: 0.688200801500695.\n",
      "[I 2024-09-17 18:45:54,319] Trial 85 finished with value: 0.6080799857908291 and parameters: {'n_estimators': 146, 'learning_rate': 0.5324975285449459, 'min_split_loss': 2.5809999600942843, 'max_depth': 10, 'max_leaves': 8, 'max_bin': 176, 'min_child_weight': 2, 'max_delta_step': 9, 'subsample': 0.6278789198549042, 'colsample_bytree': 0.0715139422253595, 'reg_lambda': 0.25898041588329673, 'reg_alpha': 0.015621047991309514}. Best is trial 52 with value: 0.688200801500695.\n",
      "[I 2024-09-17 18:45:54,527] Trial 86 finished with value: 0.6718940807471109 and parameters: {'n_estimators': 122, 'learning_rate': 0.28899246816987373, 'min_split_loss': 1.049874531893143, 'max_depth': 9, 'max_leaves': 10, 'max_bin': 181, 'min_child_weight': 1, 'max_delta_step': 10, 'subsample': 0.9040100252815816, 'colsample_bytree': 0.08915470716140761, 'reg_lambda': 6.35494981039554e-08, 'reg_alpha': 0.4328235005500373}. Best is trial 52 with value: 0.688200801500695.\n",
      "[I 2024-09-17 18:45:54,737] Trial 87 finished with value: 0.6773932963588135 and parameters: {'n_estimators': 129, 'learning_rate': 0.4688206958419693, 'min_split_loss': 0.770187662278766, 'max_depth': 9, 'max_leaves': 10, 'max_bin': 172, 'min_child_weight': 1, 'max_delta_step': 10, 'subsample': 0.8819809434125957, 'colsample_bytree': 0.09091144977942459, 'reg_lambda': 1.0252522663500252e-06, 'reg_alpha': 0.46138765441913016}. Best is trial 52 with value: 0.688200801500695.\n",
      "[I 2024-09-17 18:45:55,127] Trial 88 finished with value: 0.6399686954998172 and parameters: {'n_estimators': 122, 'learning_rate': 0.4856308174804002, 'min_split_loss': 0.2775529990320932, 'max_depth': 9, 'max_leaves': 10, 'max_bin': 172, 'min_child_weight': 2, 'max_delta_step': 2, 'subsample': 0.9083769743650663, 'colsample_bytree': 0.04379345923562613, 'reg_lambda': 3.2528476375535745e-06, 'reg_alpha': 0.8010548311928722}. Best is trial 52 with value: 0.688200801500695.\n",
      "[I 2024-09-17 18:45:55,403] Trial 89 finished with value: 0.38146997929606624 and parameters: {'n_estimators': 172, 'learning_rate': 0.28703924420137195, 'min_split_loss': 0.8319259243009709, 'max_depth': 9, 'max_leaves': 10, 'max_bin': 150, 'min_child_weight': 4, 'max_delta_step': 10, 'subsample': 0.969639281487494, 'colsample_bytree': 0.06052822963965017, 'reg_lambda': 5.0329574356293905e-08, 'reg_alpha': 0.38646299794238537}. Best is trial 52 with value: 0.688200801500695.\n",
      "[I 2024-09-17 18:45:55,603] Trial 90 finished with value: 0.4613609518500823 and parameters: {'n_estimators': 50, 'learning_rate': 0.2079645630409341, 'min_split_loss': 1.1190090909530555, 'max_depth': 10, 'max_leaves': 10, 'max_bin': 166, 'min_child_weight': 1, 'max_delta_step': 9, 'subsample': 0.7650776615285046, 'colsample_bytree': 0.0878037453712678, 'reg_lambda': 9.259855916841327e-08, 'reg_alpha': 0.5403364923861418}. Best is trial 52 with value: 0.688200801500695.\n",
      "[I 2024-09-17 18:45:55,897] Trial 91 finished with value: 0.6792342024900164 and parameters: {'n_estimators': 254, 'learning_rate': 0.7005085567867683, 'min_split_loss': 0.6769095504753464, 'max_depth': 9, 'max_leaves': 9, 'max_bin': 182, 'min_child_weight': 1, 'max_delta_step': 10, 'subsample': 0.8004907811152061, 'colsample_bytree': 0.12360034914246892, 'reg_lambda': 1.1798621194095947e-08, 'reg_alpha': 0.21049080983392146}. Best is trial 52 with value: 0.688200801500695.\n",
      "[I 2024-09-17 18:45:56,180] Trial 92 finished with value: 0.44350615740367294 and parameters: {'n_estimators': 205, 'learning_rate': 0.7941142101724196, 'min_split_loss': 0.667825798807695, 'max_depth': 9, 'max_leaves': 9, 'max_bin': 181, 'min_child_weight': 1, 'max_delta_step': 10, 'subsample': 0.12057888726956396, 'colsample_bytree': 0.07400578811418605, 'reg_lambda': 1.4610322250640957e-08, 'reg_alpha': 0.22726081781180713}. Best is trial 52 with value: 0.688200801500695.\n",
      "[I 2024-09-17 18:45:56,379] Trial 93 finished with value: 0.5046513256504006 and parameters: {'n_estimators': 76, 'learning_rate': 0.6078442418537933, 'min_split_loss': 1.0240055860448476, 'max_depth': 9, 'max_leaves': 10, 'max_bin': 179, 'min_child_weight': 1, 'max_delta_step': 10, 'subsample': 0.8314212290378314, 'colsample_bytree': 0.08956885028325703, 'reg_lambda': 3.095349338038882e-08, 'reg_alpha': 1.9154957579592224}. Best is trial 52 with value: 0.688200801500695.\n",
      "[I 2024-09-17 18:45:56,604] Trial 94 finished with value: 0.6144599200226072 and parameters: {'n_estimators': 137, 'learning_rate': 0.37742587188814514, 'min_split_loss': 0.4425816573115007, 'max_depth': 10, 'max_leaves': 9, 'max_bin': 160, 'min_child_weight': 2, 'max_delta_step': 10, 'subsample': 0.7250361026324162, 'colsample_bytree': 0.1524588791505407, 'reg_lambda': 8.45874712795868e-07, 'reg_alpha': 1.1655557476211431}. Best is trial 52 with value: 0.688200801500695.\n",
      "[I 2024-09-17 18:45:57,001] Trial 95 finished with value: 0.6513070862769559 and parameters: {'n_estimators': 249, 'learning_rate': 0.4485790812643372, 'min_split_loss': 1.4848157172390735, 'max_depth': 9, 'max_leaves': 10, 'max_bin': 188, 'min_child_weight': 1, 'max_delta_step': 10, 'subsample': 0.50691701619935, 'colsample_bytree': 0.05524988030360933, 'reg_lambda': 1.0266306865601437e-08, 'reg_alpha': 0.10991098675849072}. Best is trial 52 with value: 0.688200801500695.\n",
      "[I 2024-09-17 18:45:57,294] Trial 96 finished with value: 0.6419353089271419 and parameters: {'n_estimators': 157, 'learning_rate': 0.3115477452280403, 'min_split_loss': 0.793998563793461, 'max_depth': 8, 'max_leaves': 9, 'max_bin': 172, 'min_child_weight': 1, 'max_delta_step': 9, 'subsample': 0.992314262342135, 'colsample_bytree': 0.06694052914015906, 'reg_lambda': 1.5648753801702513e-07, 'reg_alpha': 0.07898146359005942}. Best is trial 52 with value: 0.688200801500695.\n",
      "[I 2024-09-17 18:45:57,606] Trial 97 finished with value: 0.6408361450807004 and parameters: {'n_estimators': 223, 'learning_rate': 0.5674164477810206, 'min_split_loss': 1.2606824712208193, 'max_depth': 9, 'max_leaves': 10, 'max_bin': 176, 'min_child_weight': 2, 'max_delta_step': 4, 'subsample': 0.703626374946915, 'colsample_bytree': 0.048442297585176125, 'reg_lambda': 1.4508744688810829e-05, 'reg_alpha': 0.4548974850875315}. Best is trial 52 with value: 0.688200801500695.\n",
      "[I 2024-09-17 18:45:57,828] Trial 98 finished with value: 0.6261398671218954 and parameters: {'n_estimators': 114, 'learning_rate': 0.9985322394364511, 'min_split_loss': 0.20161063021944658, 'max_depth': 10, 'max_leaves': 9, 'max_bin': 185, 'min_child_weight': 1, 'max_delta_step': 9, 'subsample': 0.8935159247636315, 'colsample_bytree': 0.11617296991250436, 'reg_lambda': 3.934763817107763e-08, 'reg_alpha': 0.2073675346258313}. Best is trial 52 with value: 0.688200801500695.\n",
      "[I 2024-09-17 18:45:58,074] Trial 99 finished with value: 0.5921986412182491 and parameters: {'n_estimators': 189, 'learning_rate': 0.8898953584047593, 'min_split_loss': 1.6873262200262524, 'max_depth': 9, 'max_leaves': 10, 'max_bin': 199, 'min_child_weight': 1, 'max_delta_step': 10, 'subsample': 0.611514064676045, 'colsample_bytree': 0.1738033450133537, 'reg_lambda': 4.57230234524039e-06, 'reg_alpha': 0.055917847208463003}. Best is trial 52 with value: 0.688200801500695.\n"
     ]
    },
    {
     "name": "stdout",
     "output_type": "stream",
     "text": [
      "Best Score:  0.688200801500695\n",
      "Best Params: \n",
      "{'n_estimators': 177, 'learning_rate': 0.5683748930635135, 'min_split_loss': 1.08453056948852, 'max_depth': 7, 'max_leaves': 5, 'max_bin': 187, 'min_child_weight': 1, 'max_delta_step': 6, 'subsample': 0.6087200131106071, 'colsample_bytree': 0.07317213219278966, 'reg_lambda': 1.8854197021232464, 'reg_alpha': 0.09696958363421158}\n"
     ]
    },
    {
     "data": {
      "application/vnd.plotly.v1+json": {
       "config": {
        "plotlyServerURL": "https://plot.ly"
       },
       "data": [
        {
         "cliponaxis": false,
         "hovertemplate": [
          "max_leaves (IntDistribution): 0.0025160066964280054<extra></extra>",
          "reg_alpha (FloatDistribution): 0.004626191494440233<extra></extra>",
          "colsample_bytree (FloatDistribution): 0.011386835897322341<extra></extra>",
          "n_estimators (IntDistribution): 0.013033761370857275<extra></extra>",
          "max_bin (IntDistribution): 0.015212222483714464<extra></extra>",
          "max_delta_step (IntDistribution): 0.016470877302581417<extra></extra>",
          "max_depth (IntDistribution): 0.016685085323111776<extra></extra>",
          "reg_lambda (FloatDistribution): 0.02128524983236406<extra></extra>",
          "learning_rate (FloatDistribution): 0.032888683515594166<extra></extra>",
          "min_split_loss (FloatDistribution): 0.07628653108907972<extra></extra>",
          "subsample (FloatDistribution): 0.20247890657941717<extra></extra>",
          "min_child_weight (IntDistribution): 0.5871296484150893<extra></extra>"
         ],
         "name": "Objective Value",
         "orientation": "h",
         "text": [
          "<0.01",
          "<0.01",
          "0.01",
          "0.01",
          "0.02",
          "0.02",
          "0.02",
          "0.02",
          "0.03",
          "0.08",
          "0.20",
          "0.59"
         ],
         "textposition": "outside",
         "type": "bar",
         "x": [
          0.0025160066964280054,
          0.004626191494440233,
          0.011386835897322341,
          0.013033761370857275,
          0.015212222483714464,
          0.016470877302581417,
          0.016685085323111776,
          0.02128524983236406,
          0.032888683515594166,
          0.07628653108907972,
          0.20247890657941717,
          0.5871296484150893
         ],
         "y": [
          "max_leaves",
          "reg_alpha",
          "colsample_bytree",
          "n_estimators",
          "max_bin",
          "max_delta_step",
          "max_depth",
          "reg_lambda",
          "learning_rate",
          "min_split_loss",
          "subsample",
          "min_child_weight"
         ]
        }
       ],
       "layout": {
        "template": {
         "data": {
          "bar": [
           {
            "error_x": {
             "color": "#2a3f5f"
            },
            "error_y": {
             "color": "#2a3f5f"
            },
            "marker": {
             "line": {
              "color": "#E5ECF6",
              "width": 0.5
             },
             "pattern": {
              "fillmode": "overlay",
              "size": 10,
              "solidity": 0.2
             }
            },
            "type": "bar"
           }
          ],
          "barpolar": [
           {
            "marker": {
             "line": {
              "color": "#E5ECF6",
              "width": 0.5
             },
             "pattern": {
              "fillmode": "overlay",
              "size": 10,
              "solidity": 0.2
             }
            },
            "type": "barpolar"
           }
          ],
          "carpet": [
           {
            "aaxis": {
             "endlinecolor": "#2a3f5f",
             "gridcolor": "white",
             "linecolor": "white",
             "minorgridcolor": "white",
             "startlinecolor": "#2a3f5f"
            },
            "baxis": {
             "endlinecolor": "#2a3f5f",
             "gridcolor": "white",
             "linecolor": "white",
             "minorgridcolor": "white",
             "startlinecolor": "#2a3f5f"
            },
            "type": "carpet"
           }
          ],
          "choropleth": [
           {
            "colorbar": {
             "outlinewidth": 0,
             "ticks": ""
            },
            "type": "choropleth"
           }
          ],
          "contour": [
           {
            "colorbar": {
             "outlinewidth": 0,
             "ticks": ""
            },
            "colorscale": [
             [
              0,
              "#0d0887"
             ],
             [
              0.1111111111111111,
              "#46039f"
             ],
             [
              0.2222222222222222,
              "#7201a8"
             ],
             [
              0.3333333333333333,
              "#9c179e"
             ],
             [
              0.4444444444444444,
              "#bd3786"
             ],
             [
              0.5555555555555556,
              "#d8576b"
             ],
             [
              0.6666666666666666,
              "#ed7953"
             ],
             [
              0.7777777777777778,
              "#fb9f3a"
             ],
             [
              0.8888888888888888,
              "#fdca26"
             ],
             [
              1,
              "#f0f921"
             ]
            ],
            "type": "contour"
           }
          ],
          "contourcarpet": [
           {
            "colorbar": {
             "outlinewidth": 0,
             "ticks": ""
            },
            "type": "contourcarpet"
           }
          ],
          "heatmap": [
           {
            "colorbar": {
             "outlinewidth": 0,
             "ticks": ""
            },
            "colorscale": [
             [
              0,
              "#0d0887"
             ],
             [
              0.1111111111111111,
              "#46039f"
             ],
             [
              0.2222222222222222,
              "#7201a8"
             ],
             [
              0.3333333333333333,
              "#9c179e"
             ],
             [
              0.4444444444444444,
              "#bd3786"
             ],
             [
              0.5555555555555556,
              "#d8576b"
             ],
             [
              0.6666666666666666,
              "#ed7953"
             ],
             [
              0.7777777777777778,
              "#fb9f3a"
             ],
             [
              0.8888888888888888,
              "#fdca26"
             ],
             [
              1,
              "#f0f921"
             ]
            ],
            "type": "heatmap"
           }
          ],
          "heatmapgl": [
           {
            "colorbar": {
             "outlinewidth": 0,
             "ticks": ""
            },
            "colorscale": [
             [
              0,
              "#0d0887"
             ],
             [
              0.1111111111111111,
              "#46039f"
             ],
             [
              0.2222222222222222,
              "#7201a8"
             ],
             [
              0.3333333333333333,
              "#9c179e"
             ],
             [
              0.4444444444444444,
              "#bd3786"
             ],
             [
              0.5555555555555556,
              "#d8576b"
             ],
             [
              0.6666666666666666,
              "#ed7953"
             ],
             [
              0.7777777777777778,
              "#fb9f3a"
             ],
             [
              0.8888888888888888,
              "#fdca26"
             ],
             [
              1,
              "#f0f921"
             ]
            ],
            "type": "heatmapgl"
           }
          ],
          "histogram": [
           {
            "marker": {
             "pattern": {
              "fillmode": "overlay",
              "size": 10,
              "solidity": 0.2
             }
            },
            "type": "histogram"
           }
          ],
          "histogram2d": [
           {
            "colorbar": {
             "outlinewidth": 0,
             "ticks": ""
            },
            "colorscale": [
             [
              0,
              "#0d0887"
             ],
             [
              0.1111111111111111,
              "#46039f"
             ],
             [
              0.2222222222222222,
              "#7201a8"
             ],
             [
              0.3333333333333333,
              "#9c179e"
             ],
             [
              0.4444444444444444,
              "#bd3786"
             ],
             [
              0.5555555555555556,
              "#d8576b"
             ],
             [
              0.6666666666666666,
              "#ed7953"
             ],
             [
              0.7777777777777778,
              "#fb9f3a"
             ],
             [
              0.8888888888888888,
              "#fdca26"
             ],
             [
              1,
              "#f0f921"
             ]
            ],
            "type": "histogram2d"
           }
          ],
          "histogram2dcontour": [
           {
            "colorbar": {
             "outlinewidth": 0,
             "ticks": ""
            },
            "colorscale": [
             [
              0,
              "#0d0887"
             ],
             [
              0.1111111111111111,
              "#46039f"
             ],
             [
              0.2222222222222222,
              "#7201a8"
             ],
             [
              0.3333333333333333,
              "#9c179e"
             ],
             [
              0.4444444444444444,
              "#bd3786"
             ],
             [
              0.5555555555555556,
              "#d8576b"
             ],
             [
              0.6666666666666666,
              "#ed7953"
             ],
             [
              0.7777777777777778,
              "#fb9f3a"
             ],
             [
              0.8888888888888888,
              "#fdca26"
             ],
             [
              1,
              "#f0f921"
             ]
            ],
            "type": "histogram2dcontour"
           }
          ],
          "mesh3d": [
           {
            "colorbar": {
             "outlinewidth": 0,
             "ticks": ""
            },
            "type": "mesh3d"
           }
          ],
          "parcoords": [
           {
            "line": {
             "colorbar": {
              "outlinewidth": 0,
              "ticks": ""
             }
            },
            "type": "parcoords"
           }
          ],
          "pie": [
           {
            "automargin": true,
            "type": "pie"
           }
          ],
          "scatter": [
           {
            "fillpattern": {
             "fillmode": "overlay",
             "size": 10,
             "solidity": 0.2
            },
            "type": "scatter"
           }
          ],
          "scatter3d": [
           {
            "line": {
             "colorbar": {
              "outlinewidth": 0,
              "ticks": ""
             }
            },
            "marker": {
             "colorbar": {
              "outlinewidth": 0,
              "ticks": ""
             }
            },
            "type": "scatter3d"
           }
          ],
          "scattercarpet": [
           {
            "marker": {
             "colorbar": {
              "outlinewidth": 0,
              "ticks": ""
             }
            },
            "type": "scattercarpet"
           }
          ],
          "scattergeo": [
           {
            "marker": {
             "colorbar": {
              "outlinewidth": 0,
              "ticks": ""
             }
            },
            "type": "scattergeo"
           }
          ],
          "scattergl": [
           {
            "marker": {
             "colorbar": {
              "outlinewidth": 0,
              "ticks": ""
             }
            },
            "type": "scattergl"
           }
          ],
          "scattermapbox": [
           {
            "marker": {
             "colorbar": {
              "outlinewidth": 0,
              "ticks": ""
             }
            },
            "type": "scattermapbox"
           }
          ],
          "scatterpolar": [
           {
            "marker": {
             "colorbar": {
              "outlinewidth": 0,
              "ticks": ""
             }
            },
            "type": "scatterpolar"
           }
          ],
          "scatterpolargl": [
           {
            "marker": {
             "colorbar": {
              "outlinewidth": 0,
              "ticks": ""
             }
            },
            "type": "scatterpolargl"
           }
          ],
          "scatterternary": [
           {
            "marker": {
             "colorbar": {
              "outlinewidth": 0,
              "ticks": ""
             }
            },
            "type": "scatterternary"
           }
          ],
          "surface": [
           {
            "colorbar": {
             "outlinewidth": 0,
             "ticks": ""
            },
            "colorscale": [
             [
              0,
              "#0d0887"
             ],
             [
              0.1111111111111111,
              "#46039f"
             ],
             [
              0.2222222222222222,
              "#7201a8"
             ],
             [
              0.3333333333333333,
              "#9c179e"
             ],
             [
              0.4444444444444444,
              "#bd3786"
             ],
             [
              0.5555555555555556,
              "#d8576b"
             ],
             [
              0.6666666666666666,
              "#ed7953"
             ],
             [
              0.7777777777777778,
              "#fb9f3a"
             ],
             [
              0.8888888888888888,
              "#fdca26"
             ],
             [
              1,
              "#f0f921"
             ]
            ],
            "type": "surface"
           }
          ],
          "table": [
           {
            "cells": {
             "fill": {
              "color": "#EBF0F8"
             },
             "line": {
              "color": "white"
             }
            },
            "header": {
             "fill": {
              "color": "#C8D4E3"
             },
             "line": {
              "color": "white"
             }
            },
            "type": "table"
           }
          ]
         },
         "layout": {
          "annotationdefaults": {
           "arrowcolor": "#2a3f5f",
           "arrowhead": 0,
           "arrowwidth": 1
          },
          "autotypenumbers": "strict",
          "coloraxis": {
           "colorbar": {
            "outlinewidth": 0,
            "ticks": ""
           }
          },
          "colorscale": {
           "diverging": [
            [
             0,
             "#8e0152"
            ],
            [
             0.1,
             "#c51b7d"
            ],
            [
             0.2,
             "#de77ae"
            ],
            [
             0.3,
             "#f1b6da"
            ],
            [
             0.4,
             "#fde0ef"
            ],
            [
             0.5,
             "#f7f7f7"
            ],
            [
             0.6,
             "#e6f5d0"
            ],
            [
             0.7,
             "#b8e186"
            ],
            [
             0.8,
             "#7fbc41"
            ],
            [
             0.9,
             "#4d9221"
            ],
            [
             1,
             "#276419"
            ]
           ],
           "sequential": [
            [
             0,
             "#0d0887"
            ],
            [
             0.1111111111111111,
             "#46039f"
            ],
            [
             0.2222222222222222,
             "#7201a8"
            ],
            [
             0.3333333333333333,
             "#9c179e"
            ],
            [
             0.4444444444444444,
             "#bd3786"
            ],
            [
             0.5555555555555556,
             "#d8576b"
            ],
            [
             0.6666666666666666,
             "#ed7953"
            ],
            [
             0.7777777777777778,
             "#fb9f3a"
            ],
            [
             0.8888888888888888,
             "#fdca26"
            ],
            [
             1,
             "#f0f921"
            ]
           ],
           "sequentialminus": [
            [
             0,
             "#0d0887"
            ],
            [
             0.1111111111111111,
             "#46039f"
            ],
            [
             0.2222222222222222,
             "#7201a8"
            ],
            [
             0.3333333333333333,
             "#9c179e"
            ],
            [
             0.4444444444444444,
             "#bd3786"
            ],
            [
             0.5555555555555556,
             "#d8576b"
            ],
            [
             0.6666666666666666,
             "#ed7953"
            ],
            [
             0.7777777777777778,
             "#fb9f3a"
            ],
            [
             0.8888888888888888,
             "#fdca26"
            ],
            [
             1,
             "#f0f921"
            ]
           ]
          },
          "colorway": [
           "#636efa",
           "#EF553B",
           "#00cc96",
           "#ab63fa",
           "#FFA15A",
           "#19d3f3",
           "#FF6692",
           "#B6E880",
           "#FF97FF",
           "#FECB52"
          ],
          "font": {
           "color": "#2a3f5f"
          },
          "geo": {
           "bgcolor": "white",
           "lakecolor": "white",
           "landcolor": "#E5ECF6",
           "showlakes": true,
           "showland": true,
           "subunitcolor": "white"
          },
          "hoverlabel": {
           "align": "left"
          },
          "hovermode": "closest",
          "mapbox": {
           "style": "light"
          },
          "paper_bgcolor": "white",
          "plot_bgcolor": "#E5ECF6",
          "polar": {
           "angularaxis": {
            "gridcolor": "white",
            "linecolor": "white",
            "ticks": ""
           },
           "bgcolor": "#E5ECF6",
           "radialaxis": {
            "gridcolor": "white",
            "linecolor": "white",
            "ticks": ""
           }
          },
          "scene": {
           "xaxis": {
            "backgroundcolor": "#E5ECF6",
            "gridcolor": "white",
            "gridwidth": 2,
            "linecolor": "white",
            "showbackground": true,
            "ticks": "",
            "zerolinecolor": "white"
           },
           "yaxis": {
            "backgroundcolor": "#E5ECF6",
            "gridcolor": "white",
            "gridwidth": 2,
            "linecolor": "white",
            "showbackground": true,
            "ticks": "",
            "zerolinecolor": "white"
           },
           "zaxis": {
            "backgroundcolor": "#E5ECF6",
            "gridcolor": "white",
            "gridwidth": 2,
            "linecolor": "white",
            "showbackground": true,
            "ticks": "",
            "zerolinecolor": "white"
           }
          },
          "shapedefaults": {
           "line": {
            "color": "#2a3f5f"
           }
          },
          "ternary": {
           "aaxis": {
            "gridcolor": "white",
            "linecolor": "white",
            "ticks": ""
           },
           "baxis": {
            "gridcolor": "white",
            "linecolor": "white",
            "ticks": ""
           },
           "bgcolor": "#E5ECF6",
           "caxis": {
            "gridcolor": "white",
            "linecolor": "white",
            "ticks": ""
           }
          },
          "title": {
           "x": 0.05
          },
          "xaxis": {
           "automargin": true,
           "gridcolor": "white",
           "linecolor": "white",
           "ticks": "",
           "title": {
            "standoff": 15
           },
           "zerolinecolor": "white",
           "zerolinewidth": 2
          },
          "yaxis": {
           "automargin": true,
           "gridcolor": "white",
           "linecolor": "white",
           "ticks": "",
           "title": {
            "standoff": 15
           },
           "zerolinecolor": "white",
           "zerolinewidth": 2
          }
         }
        },
        "title": {
         "text": "Hyperparameter Importances"
        },
        "xaxis": {
         "title": {
          "text": "Hyperparameter Importance"
         }
        },
        "yaxis": {
         "title": {
          "text": "Hyperparameter"
         }
        }
       }
      }
     },
     "metadata": {},
     "output_type": "display_data"
    }
   ],
   "source": [
    "objective_func = partial(\n",
    "    objective,\n",
    "    X_train=X_train,\n",
    "    y_train=y_train,\n",
    "    # X_test=X_test,\n",
    "    # y_test=y_test,\n",
    "    k=3,\n",
    "    model='xgb',\n",
    "    mode='params',\n",
    "    class_weights={0: 0.6807888256513457, 1: 1-0.6807888256513457}\n",
    ")\n",
    "\n",
    "study = optuna.create_study(direction = 'maximize')\n",
    "study.optimize(objective_func, n_trials = 100)\n",
    "trial = study.best_trial\n",
    "print('Best Score: ', trial.value)\n",
    "print('Best Params: ')\n",
    "print(trial.params)\n",
    "optuna.visualization.plot_contour(study)\n",
    "optuna.visualization.plot_param_importances(study)"
   ]
  }
 ],
 "metadata": {
  "kernelspec": {
   "display_name": "ml-toolkit",
   "language": "python",
   "name": "python3"
  },
  "language_info": {
   "codemirror_mode": {
    "name": "ipython",
    "version": 3
   },
   "file_extension": ".py",
   "mimetype": "text/x-python",
   "name": "python",
   "nbconvert_exporter": "python",
   "pygments_lexer": "ipython3",
   "version": "3.12.2"
  }
 },
 "nbformat": 4,
 "nbformat_minor": 2
}
